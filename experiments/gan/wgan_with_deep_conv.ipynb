{
 "cells": [
  {
   "cell_type": "markdown",
   "metadata": {},
   "source": [
    "### WGAN with Deep Convolution"
   ]
  },
  {
   "cell_type": "code",
   "execution_count": 1,
   "metadata": {},
   "outputs": [],
   "source": [
    "from torchvision.datasets import MNIST\n",
    "from torchvision import transforms"
   ]
  },
  {
   "cell_type": "code",
   "execution_count": 2,
   "metadata": {},
   "outputs": [],
   "source": [
    "from forgebox.ftorch import FG"
   ]
  },
  {
   "cell_type": "code",
   "execution_count": 3,
   "metadata": {},
   "outputs": [
    {
     "name": "stdout",
     "output_type": "stream",
     "text": [
      "==========hyper params==========\n",
      "{'hs': 2048}\n"
     ]
    }
   ],
   "source": [
    "fg = FG(\"wgan_dc\",remark=\"wgan and with deep convolutional model\")\n",
    "p = fg.p"
   ]
  },
  {
   "cell_type": "markdown",
   "metadata": {},
   "source": [
    "### Data Pipeline"
   ]
  },
  {
   "cell_type": "code",
   "execution_count": 4,
   "metadata": {},
   "outputs": [],
   "source": [
    "train = MNIST(\"/data/MNIST_TORCH/\", train = True, transform=transforms.Compose([transforms.ToTensor()]), download=False)\n",
    "valid = MNIST(\"/data/MNIST_TORCH/\", train = False, transform=transforms.Compose([transforms.ToTensor()]), download=False)"
   ]
  },
  {
   "cell_type": "code",
   "execution_count": 5,
   "metadata": {},
   "outputs": [],
   "source": [
    "from torch import nn\n",
    "import torch\n",
    "from torch.utils.data import DataLoader"
   ]
  },
  {
   "cell_type": "code",
   "execution_count": 6,
   "metadata": {},
   "outputs": [],
   "source": [
    "# next(iter(DataLoader(train)))"
   ]
  },
  {
   "cell_type": "code",
   "execution_count": 7,
   "metadata": {},
   "outputs": [],
   "source": [
    "CUDA = torch.cuda.is_available()"
   ]
  },
  {
   "cell_type": "code",
   "execution_count": 8,
   "metadata": {},
   "outputs": [],
   "source": [
    "def conv_layer(in_,out,ks=3,padding=None,bn=False, act=True):\n",
    "    convs = [\n",
    "        nn.Conv2d(in_,out, \n",
    "                kernel_size=3, \n",
    "                padding=ks//2 if padding== None else padding, \n",
    "                bias=False if bn else True,),\n",
    "            ]\n",
    "    if bn: convs.append(nn.BatchNorm2d(out,))\n",
    "    if act: convs.append(nn.ReLU())\n",
    "    return nn.Sequential(*convs)\n",
    "\n",
    "class res_block(nn.Module):\n",
    "    def __init__(self, in_,ks=3, hs=None, bn = False):\n",
    "        super().__init__()\n",
    "        in_ = in_\n",
    "        hs = hs if hs else in_\n",
    "        self.convs = nn.Sequential(*[\n",
    "            conv_layer(in_, hs, bn = True, ),\n",
    "            conv_layer(hs, in_, bn = True, ),\n",
    "        ])\n",
    "    \n",
    "    def forward(self,x):\n",
    "        return x + self.convs(x)\n",
    "        \n",
    "class G(nn.Module):\n",
    "    def __init__(self, in_,):\n",
    "        super().__init__()\n",
    "        self.in_ = in_\n",
    "        self.start = nn.Linear(in_,28*28)\n",
    "        self.conv_blocks = nn.Sequential(*[\n",
    "            conv_layer(1,32),\n",
    "            res_block(32),conv_layer(32,64),\n",
    "            res_block(64),conv_layer(64,32),\n",
    "            conv_layer(32,1, act= False, bn = False),\n",
    "        ])        \n",
    "    def forward(self,x, ):\n",
    "        bs = x.size()[0]\n",
    "        x = self.start(x)\n",
    "        x = torch.reshape(x,(bs,1,28,28))\n",
    "        x = self.conv_blocks(x)\n",
    "        return torch.sigmoid(x)\n",
    "    \n",
    "    def new_images(self, number):\n",
    "        x = torch.rand(number,self.in_)\n",
    "        if CUDA: x=x.cuda()\n",
    "        x = self.forward(x)\n",
    "        return x\n",
    "    \n",
    "class D(nn.Module):\n",
    "    def __init__(self, ):\n",
    "        super().__init__()\n",
    "        self.conv_blocks = nn.Sequential(*[\n",
    "            conv_layer(1,32),res_block(32),nn.AvgPool2d((2,2)),\n",
    "            conv_layer(32,64),res_block(64),nn.AvgPool2d((2,2)),\n",
    "            conv_layer(64,32,act=False, bn=False),\n",
    "#             nn.AdaptiveAvgPool2d((1,1))\n",
    "        ])\n",
    "        self.fcb=nn.Sequential(*[\n",
    "            nn.Linear(49*32,512,bias=False),\n",
    "            nn.BatchNorm1d(512),\n",
    "            nn.ReLU(),\n",
    "            nn.Linear(512,1,bias=False)\n",
    "        ])\n",
    "        \n",
    "    def forward(self,x):\n",
    "        x = self.conv_blocks(x)\n",
    "        bs = x.size()[0]\n",
    "        x = torch.reshape(x,(bs,49*32))\n",
    "        x = self.fcb(x)\n",
    "        return x"
   ]
  },
  {
   "cell_type": "code",
   "execution_count": 9,
   "metadata": {},
   "outputs": [],
   "source": [
    "d = D()"
   ]
  },
  {
   "cell_type": "code",
   "execution_count": 10,
   "metadata": {},
   "outputs": [],
   "source": [
    "a = torch.rand(32,1,28,28)"
   ]
  },
  {
   "cell_type": "code",
   "execution_count": 11,
   "metadata": {},
   "outputs": [
    {
     "data": {
      "text/plain": [
       "torch.Size([32, 1])"
      ]
     },
     "execution_count": 11,
     "metadata": {},
     "output_type": "execute_result"
    }
   ],
   "source": [
    "d(a).size()"
   ]
  },
  {
   "cell_type": "code",
   "execution_count": 12,
   "metadata": {},
   "outputs": [],
   "source": [
    "from forgebox.ftorch.train import Trainer\n",
    "from forgebox.ftorch.callbacks import stat\n",
    "\n",
    "from torch.optim import Adam, RMSprop"
   ]
  },
  {
   "cell_type": "code",
   "execution_count": 13,
   "metadata": {},
   "outputs": [],
   "source": [
    "trainer = Trainer(dataset=train, batch_size=32, print_on=5,fg=fg, callbacks=[stat])"
   ]
  },
  {
   "cell_type": "code",
   "execution_count": 14,
   "metadata": {},
   "outputs": [],
   "source": [
    "g,d = G(100,),D()\n",
    "if CUDA:\n",
    "    g,d = g.cuda(),d.cuda()\n",
    "opt_G = RMSprop(g.parameters(),lr= 5e-5)\n",
    "opt_D = RMSprop(d.parameters(),lr= 5e-5)\n",
    "\n",
    "trainer.train_G = True\n",
    "trainer.loss_G = 0\n",
    "trainer.loss_D = 0\n",
    "@trainer.step_train\n",
    "def action(*args, **kwargs):\n",
    "    if kwargs[\"ite\"] %6 ==5:\n",
    "        trainer.train_G = True\n",
    "    else:\n",
    "        trainer.train_G = False\n",
    "    opt_G.zero_grad()\n",
    "    opt_D.zero_grad()\n",
    "    \n",
    "    real,y = args[0]\n",
    "    \n",
    "    bs = real.size()[0]\n",
    "    z = torch.rand(bs, 100)\n",
    "    \n",
    "    if CUDA:\n",
    "        real = real.cuda()\n",
    "        z = z.cuda()\n",
    "    fake = g(z)\n",
    "    x = torch.cat([real,fake], dim=0)\n",
    "    if trainer.train_G:\n",
    "        \n",
    "        loss = - d(fake).mean()\n",
    "        trainer.loss_G = loss.item()\n",
    "        loss.backward()\n",
    "        opt_G.step()\n",
    "    else:\n",
    "        loss = -(d(real).mean() - d(fake).mean())\n",
    "        trainer.loss_D = loss.item()\n",
    "        loss.backward()\n",
    "        opt_D.step()\n",
    "        for p in d.parameters():\n",
    "            p.data.clamp_(-1e-2, 1e-2)\n",
    "    return {\"loss\":loss.item(),\"g\":trainer.loss_G, \"d\":trainer.loss_D}"
   ]
  },
  {
   "cell_type": "code",
   "execution_count": 15,
   "metadata": {},
   "outputs": [
    {
     "data": {
      "application/vnd.jupyter.widget-view+json": {
       "model_id": "ab53a81063724e77ba0ed757ceaf8bbd",
       "version_major": 2,
       "version_minor": 0
      },
      "text/plain": [
       "HBox(children=(IntProgress(value=0, max=1875), HTML(value='')))"
      ]
     },
     "metadata": {},
     "output_type": "display_data"
    },
    {
     "name": "stdout",
     "output_type": "stream",
     "text": [
      "\n"
     ]
    },
    {
     "data": {
      "text/html": [
       "<div>\n",
       "<style scoped>\n",
       "    .dataframe tbody tr th:only-of-type {\n",
       "        vertical-align: middle;\n",
       "    }\n",
       "\n",
       "    .dataframe tbody tr th {\n",
       "        vertical-align: top;\n",
       "    }\n",
       "\n",
       "    .dataframe thead th {\n",
       "        text-align: right;\n",
       "    }\n",
       "</style>\n",
       "<table border=\"1\" class=\"dataframe\">\n",
       "  <thead>\n",
       "    <tr style=\"text-align: right;\">\n",
       "      <th></th>\n",
       "      <th>d</th>\n",
       "      <th>epoch</th>\n",
       "      <th>g</th>\n",
       "      <th>iter</th>\n",
       "      <th>loss</th>\n",
       "      <th>timestamp</th>\n",
       "    </tr>\n",
       "  </thead>\n",
       "  <tbody>\n",
       "    <tr>\n",
       "      <th>mean</th>\n",
       "      <td>-0.005771</td>\n",
       "      <td>0.0</td>\n",
       "      <td>0.003001</td>\n",
       "      <td>937.0</td>\n",
       "      <td>-0.004304</td>\n",
       "      <td>0.024166</td>\n",
       "    </tr>\n",
       "    <tr>\n",
       "      <th>min</th>\n",
       "      <td>-0.010867</td>\n",
       "      <td>0.0</td>\n",
       "      <td>0.000000</td>\n",
       "      <td>0.0</td>\n",
       "      <td>-0.010867</td>\n",
       "      <td>0.000000</td>\n",
       "    </tr>\n",
       "    <tr>\n",
       "      <th>max</th>\n",
       "      <td>0.000002</td>\n",
       "      <td>0.0</td>\n",
       "      <td>0.005644</td>\n",
       "      <td>1874.0</td>\n",
       "      <td>0.005644</td>\n",
       "      <td>45.310846</td>\n",
       "    </tr>\n",
       "  </tbody>\n",
       "</table>\n",
       "</div>"
      ],
      "text/plain": [
       "             d  epoch         g    iter      loss  timestamp\n",
       "mean -0.005771    0.0  0.003001   937.0 -0.004304   0.024166\n",
       "min  -0.010867    0.0  0.000000     0.0 -0.010867   0.000000\n",
       "max   0.000002    0.0  0.005644  1874.0  0.005644  45.310846"
      ]
     },
     "metadata": {},
     "output_type": "display_data"
    },
    {
     "data": {
      "application/vnd.jupyter.widget-view+json": {
       "model_id": "1289674acdc24827980f5a3dbbd97dff",
       "version_major": 2,
       "version_minor": 0
      },
      "text/plain": [
       "HBox(children=(IntProgress(value=0, max=1875), HTML(value='')))"
      ]
     },
     "metadata": {},
     "output_type": "display_data"
    },
    {
     "name": "stdout",
     "output_type": "stream",
     "text": [
      "\n"
     ]
    },
    {
     "data": {
      "text/html": [
       "<div>\n",
       "<style scoped>\n",
       "    .dataframe tbody tr th:only-of-type {\n",
       "        vertical-align: middle;\n",
       "    }\n",
       "\n",
       "    .dataframe tbody tr th {\n",
       "        vertical-align: top;\n",
       "    }\n",
       "\n",
       "    .dataframe thead th {\n",
       "        text-align: right;\n",
       "    }\n",
       "</style>\n",
       "<table border=\"1\" class=\"dataframe\">\n",
       "  <thead>\n",
       "    <tr style=\"text-align: right;\">\n",
       "      <th></th>\n",
       "      <th>d</th>\n",
       "      <th>epoch</th>\n",
       "      <th>g</th>\n",
       "      <th>iter</th>\n",
       "      <th>loss</th>\n",
       "      <th>timestamp</th>\n",
       "    </tr>\n",
       "  </thead>\n",
       "  <tbody>\n",
       "    <tr>\n",
       "      <th>mean</th>\n",
       "      <td>-0.007659</td>\n",
       "      <td>1.0</td>\n",
       "      <td>0.003859</td>\n",
       "      <td>937.0</td>\n",
       "      <td>-0.005734</td>\n",
       "      <td>0.024102</td>\n",
       "    </tr>\n",
       "    <tr>\n",
       "      <th>min</th>\n",
       "      <td>-0.009876</td>\n",
       "      <td>1.0</td>\n",
       "      <td>0.001484</td>\n",
       "      <td>0.0</td>\n",
       "      <td>-0.009876</td>\n",
       "      <td>0.000000</td>\n",
       "    </tr>\n",
       "    <tr>\n",
       "      <th>max</th>\n",
       "      <td>-0.004567</td>\n",
       "      <td>1.0</td>\n",
       "      <td>0.005808</td>\n",
       "      <td>1874.0</td>\n",
       "      <td>0.005808</td>\n",
       "      <td>45.191981</td>\n",
       "    </tr>\n",
       "  </tbody>\n",
       "</table>\n",
       "</div>"
      ],
      "text/plain": [
       "             d  epoch         g    iter      loss  timestamp\n",
       "mean -0.007659    1.0  0.003859   937.0 -0.005734   0.024102\n",
       "min  -0.009876    1.0  0.001484     0.0 -0.009876   0.000000\n",
       "max  -0.004567    1.0  0.005808  1874.0  0.005808  45.191981"
      ]
     },
     "metadata": {},
     "output_type": "display_data"
    },
    {
     "data": {
      "application/vnd.jupyter.widget-view+json": {
       "model_id": "110e0080b4ae402e87927bd9d8654658",
       "version_major": 2,
       "version_minor": 0
      },
      "text/plain": [
       "HBox(children=(IntProgress(value=0, max=1875), HTML(value='')))"
      ]
     },
     "metadata": {},
     "output_type": "display_data"
    },
    {
     "name": "stdout",
     "output_type": "stream",
     "text": [
      "\n"
     ]
    },
    {
     "data": {
      "text/html": [
       "<div>\n",
       "<style scoped>\n",
       "    .dataframe tbody tr th:only-of-type {\n",
       "        vertical-align: middle;\n",
       "    }\n",
       "\n",
       "    .dataframe tbody tr th {\n",
       "        vertical-align: top;\n",
       "    }\n",
       "\n",
       "    .dataframe thead th {\n",
       "        text-align: right;\n",
       "    }\n",
       "</style>\n",
       "<table border=\"1\" class=\"dataframe\">\n",
       "  <thead>\n",
       "    <tr style=\"text-align: right;\">\n",
       "      <th></th>\n",
       "      <th>d</th>\n",
       "      <th>epoch</th>\n",
       "      <th>g</th>\n",
       "      <th>iter</th>\n",
       "      <th>loss</th>\n",
       "      <th>timestamp</th>\n",
       "    </tr>\n",
       "  </thead>\n",
       "  <tbody>\n",
       "    <tr>\n",
       "      <th>mean</th>\n",
       "      <td>-0.008074</td>\n",
       "      <td>2.0</td>\n",
       "      <td>0.004007</td>\n",
       "      <td>937.0</td>\n",
       "      <td>-0.006068</td>\n",
       "      <td>0.024137</td>\n",
       "    </tr>\n",
       "    <tr>\n",
       "      <th>min</th>\n",
       "      <td>-0.010402</td>\n",
       "      <td>2.0</td>\n",
       "      <td>0.001286</td>\n",
       "      <td>0.0</td>\n",
       "      <td>-0.010402</td>\n",
       "      <td>0.000000</td>\n",
       "    </tr>\n",
       "    <tr>\n",
       "      <th>max</th>\n",
       "      <td>-0.005376</td>\n",
       "      <td>2.0</td>\n",
       "      <td>0.006361</td>\n",
       "      <td>1874.0</td>\n",
       "      <td>0.006361</td>\n",
       "      <td>45.256603</td>\n",
       "    </tr>\n",
       "  </tbody>\n",
       "</table>\n",
       "</div>"
      ],
      "text/plain": [
       "             d  epoch         g    iter      loss  timestamp\n",
       "mean -0.008074    2.0  0.004007   937.0 -0.006068   0.024137\n",
       "min  -0.010402    2.0  0.001286     0.0 -0.010402   0.000000\n",
       "max  -0.005376    2.0  0.006361  1874.0  0.006361  45.256603"
      ]
     },
     "metadata": {},
     "output_type": "display_data"
    },
    {
     "data": {
      "application/vnd.jupyter.widget-view+json": {
       "model_id": "cfece3a584234f258c39d8cc80dad64c",
       "version_major": 2,
       "version_minor": 0
      },
      "text/plain": [
       "HBox(children=(IntProgress(value=0, max=1875), HTML(value='')))"
      ]
     },
     "metadata": {},
     "output_type": "display_data"
    },
    {
     "name": "stdout",
     "output_type": "stream",
     "text": [
      "\n"
     ]
    },
    {
     "data": {
      "text/html": [
       "<div>\n",
       "<style scoped>\n",
       "    .dataframe tbody tr th:only-of-type {\n",
       "        vertical-align: middle;\n",
       "    }\n",
       "\n",
       "    .dataframe tbody tr th {\n",
       "        vertical-align: top;\n",
       "    }\n",
       "\n",
       "    .dataframe thead th {\n",
       "        text-align: right;\n",
       "    }\n",
       "</style>\n",
       "<table border=\"1\" class=\"dataframe\">\n",
       "  <thead>\n",
       "    <tr style=\"text-align: right;\">\n",
       "      <th></th>\n",
       "      <th>d</th>\n",
       "      <th>epoch</th>\n",
       "      <th>g</th>\n",
       "      <th>iter</th>\n",
       "      <th>loss</th>\n",
       "      <th>timestamp</th>\n",
       "    </tr>\n",
       "  </thead>\n",
       "  <tbody>\n",
       "    <tr>\n",
       "      <th>mean</th>\n",
       "      <td>-0.008998</td>\n",
       "      <td>3.0</td>\n",
       "      <td>0.004622</td>\n",
       "      <td>937.0</td>\n",
       "      <td>-0.006731</td>\n",
       "      <td>0.024147</td>\n",
       "    </tr>\n",
       "    <tr>\n",
       "      <th>min</th>\n",
       "      <td>-0.011819</td>\n",
       "      <td>3.0</td>\n",
       "      <td>0.001675</td>\n",
       "      <td>0.0</td>\n",
       "      <td>-0.011819</td>\n",
       "      <td>0.000000</td>\n",
       "    </tr>\n",
       "    <tr>\n",
       "      <th>max</th>\n",
       "      <td>-0.005997</td>\n",
       "      <td>3.0</td>\n",
       "      <td>0.006495</td>\n",
       "      <td>1874.0</td>\n",
       "      <td>0.006495</td>\n",
       "      <td>45.276472</td>\n",
       "    </tr>\n",
       "  </tbody>\n",
       "</table>\n",
       "</div>"
      ],
      "text/plain": [
       "             d  epoch         g    iter      loss  timestamp\n",
       "mean -0.008998    3.0  0.004622   937.0 -0.006731   0.024147\n",
       "min  -0.011819    3.0  0.001675     0.0 -0.011819   0.000000\n",
       "max  -0.005997    3.0  0.006495  1874.0  0.006495  45.276472"
      ]
     },
     "metadata": {},
     "output_type": "display_data"
    },
    {
     "data": {
      "application/vnd.jupyter.widget-view+json": {
       "model_id": "329ce23710454c11b29f0065de908491",
       "version_major": 2,
       "version_minor": 0
      },
      "text/plain": [
       "HBox(children=(IntProgress(value=0, max=1875), HTML(value='')))"
      ]
     },
     "metadata": {},
     "output_type": "display_data"
    },
    {
     "name": "stdout",
     "output_type": "stream",
     "text": [
      "\n"
     ]
    },
    {
     "data": {
      "text/html": [
       "<div>\n",
       "<style scoped>\n",
       "    .dataframe tbody tr th:only-of-type {\n",
       "        vertical-align: middle;\n",
       "    }\n",
       "\n",
       "    .dataframe tbody tr th {\n",
       "        vertical-align: top;\n",
       "    }\n",
       "\n",
       "    .dataframe thead th {\n",
       "        text-align: right;\n",
       "    }\n",
       "</style>\n",
       "<table border=\"1\" class=\"dataframe\">\n",
       "  <thead>\n",
       "    <tr style=\"text-align: right;\">\n",
       "      <th></th>\n",
       "      <th>d</th>\n",
       "      <th>epoch</th>\n",
       "      <th>g</th>\n",
       "      <th>iter</th>\n",
       "      <th>loss</th>\n",
       "      <th>timestamp</th>\n",
       "    </tr>\n",
       "  </thead>\n",
       "  <tbody>\n",
       "    <tr>\n",
       "      <th>mean</th>\n",
       "      <td>-0.009791</td>\n",
       "      <td>4.0</td>\n",
       "      <td>0.004794</td>\n",
       "      <td>937.0</td>\n",
       "      <td>-0.007356</td>\n",
       "      <td>0.024091</td>\n",
       "    </tr>\n",
       "    <tr>\n",
       "      <th>min</th>\n",
       "      <td>-0.012948</td>\n",
       "      <td>4.0</td>\n",
       "      <td>0.002057</td>\n",
       "      <td>0.0</td>\n",
       "      <td>-0.012948</td>\n",
       "      <td>0.000000</td>\n",
       "    </tr>\n",
       "    <tr>\n",
       "      <th>max</th>\n",
       "      <td>-0.006623</td>\n",
       "      <td>4.0</td>\n",
       "      <td>0.007341</td>\n",
       "      <td>1874.0</td>\n",
       "      <td>0.007341</td>\n",
       "      <td>45.170819</td>\n",
       "    </tr>\n",
       "  </tbody>\n",
       "</table>\n",
       "</div>"
      ],
      "text/plain": [
       "             d  epoch         g    iter      loss  timestamp\n",
       "mean -0.009791    4.0  0.004794   937.0 -0.007356   0.024091\n",
       "min  -0.012948    4.0  0.002057     0.0 -0.012948   0.000000\n",
       "max  -0.006623    4.0  0.007341  1874.0  0.007341  45.170819"
      ]
     },
     "metadata": {},
     "output_type": "display_data"
    },
    {
     "data": {
      "application/vnd.jupyter.widget-view+json": {
       "model_id": "13b6d0de6a094eb491dc7655704c9a2a",
       "version_major": 2,
       "version_minor": 0
      },
      "text/plain": [
       "HBox(children=(IntProgress(value=0, max=1875), HTML(value='')))"
      ]
     },
     "metadata": {},
     "output_type": "display_data"
    },
    {
     "name": "stdout",
     "output_type": "stream",
     "text": [
      "\n"
     ]
    },
    {
     "data": {
      "text/html": [
       "<div>\n",
       "<style scoped>\n",
       "    .dataframe tbody tr th:only-of-type {\n",
       "        vertical-align: middle;\n",
       "    }\n",
       "\n",
       "    .dataframe tbody tr th {\n",
       "        vertical-align: top;\n",
       "    }\n",
       "\n",
       "    .dataframe thead th {\n",
       "        text-align: right;\n",
       "    }\n",
       "</style>\n",
       "<table border=\"1\" class=\"dataframe\">\n",
       "  <thead>\n",
       "    <tr style=\"text-align: right;\">\n",
       "      <th></th>\n",
       "      <th>d</th>\n",
       "      <th>epoch</th>\n",
       "      <th>g</th>\n",
       "      <th>iter</th>\n",
       "      <th>loss</th>\n",
       "      <th>timestamp</th>\n",
       "    </tr>\n",
       "  </thead>\n",
       "  <tbody>\n",
       "    <tr>\n",
       "      <th>mean</th>\n",
       "      <td>-0.010042</td>\n",
       "      <td>5.0</td>\n",
       "      <td>0.004845</td>\n",
       "      <td>937.0</td>\n",
       "      <td>-0.007557</td>\n",
       "      <td>0.024149</td>\n",
       "    </tr>\n",
       "    <tr>\n",
       "      <th>min</th>\n",
       "      <td>-0.012988</td>\n",
       "      <td>5.0</td>\n",
       "      <td>0.000888</td>\n",
       "      <td>0.0</td>\n",
       "      <td>-0.012988</td>\n",
       "      <td>0.000000</td>\n",
       "    </tr>\n",
       "    <tr>\n",
       "      <th>max</th>\n",
       "      <td>-0.006350</td>\n",
       "      <td>5.0</td>\n",
       "      <td>0.007219</td>\n",
       "      <td>1874.0</td>\n",
       "      <td>0.007219</td>\n",
       "      <td>45.279513</td>\n",
       "    </tr>\n",
       "  </tbody>\n",
       "</table>\n",
       "</div>"
      ],
      "text/plain": [
       "             d  epoch         g    iter      loss  timestamp\n",
       "mean -0.010042    5.0  0.004845   937.0 -0.007557   0.024149\n",
       "min  -0.012988    5.0  0.000888     0.0 -0.012988   0.000000\n",
       "max  -0.006350    5.0  0.007219  1874.0  0.007219  45.279513"
      ]
     },
     "metadata": {},
     "output_type": "display_data"
    },
    {
     "data": {
      "application/vnd.jupyter.widget-view+json": {
       "model_id": "36fa4888e46040ccb60922a111c48faa",
       "version_major": 2,
       "version_minor": 0
      },
      "text/plain": [
       "HBox(children=(IntProgress(value=0, max=1875), HTML(value='')))"
      ]
     },
     "metadata": {},
     "output_type": "display_data"
    },
    {
     "name": "stdout",
     "output_type": "stream",
     "text": [
      "\n"
     ]
    },
    {
     "data": {
      "text/html": [
       "<div>\n",
       "<style scoped>\n",
       "    .dataframe tbody tr th:only-of-type {\n",
       "        vertical-align: middle;\n",
       "    }\n",
       "\n",
       "    .dataframe tbody tr th {\n",
       "        vertical-align: top;\n",
       "    }\n",
       "\n",
       "    .dataframe thead th {\n",
       "        text-align: right;\n",
       "    }\n",
       "</style>\n",
       "<table border=\"1\" class=\"dataframe\">\n",
       "  <thead>\n",
       "    <tr style=\"text-align: right;\">\n",
       "      <th></th>\n",
       "      <th>d</th>\n",
       "      <th>epoch</th>\n",
       "      <th>g</th>\n",
       "      <th>iter</th>\n",
       "      <th>loss</th>\n",
       "      <th>timestamp</th>\n",
       "    </tr>\n",
       "  </thead>\n",
       "  <tbody>\n",
       "    <tr>\n",
       "      <th>mean</th>\n",
       "      <td>-0.010355</td>\n",
       "      <td>6.0</td>\n",
       "      <td>0.005030</td>\n",
       "      <td>937.0</td>\n",
       "      <td>-0.007795</td>\n",
       "      <td>0.024108</td>\n",
       "    </tr>\n",
       "    <tr>\n",
       "      <th>min</th>\n",
       "      <td>-0.013263</td>\n",
       "      <td>6.0</td>\n",
       "      <td>0.002272</td>\n",
       "      <td>0.0</td>\n",
       "      <td>-0.013263</td>\n",
       "      <td>0.000000</td>\n",
       "    </tr>\n",
       "    <tr>\n",
       "      <th>max</th>\n",
       "      <td>-0.006154</td>\n",
       "      <td>6.0</td>\n",
       "      <td>0.007187</td>\n",
       "      <td>1874.0</td>\n",
       "      <td>0.007187</td>\n",
       "      <td>45.202850</td>\n",
       "    </tr>\n",
       "  </tbody>\n",
       "</table>\n",
       "</div>"
      ],
      "text/plain": [
       "             d  epoch         g    iter      loss  timestamp\n",
       "mean -0.010355    6.0  0.005030   937.0 -0.007795   0.024108\n",
       "min  -0.013263    6.0  0.002272     0.0 -0.013263   0.000000\n",
       "max  -0.006154    6.0  0.007187  1874.0  0.007187  45.202850"
      ]
     },
     "metadata": {},
     "output_type": "display_data"
    },
    {
     "data": {
      "application/vnd.jupyter.widget-view+json": {
       "model_id": "c7e9d97481f34169b01931d7d556c73c",
       "version_major": 2,
       "version_minor": 0
      },
      "text/plain": [
       "HBox(children=(IntProgress(value=0, max=1875), HTML(value='')))"
      ]
     },
     "metadata": {},
     "output_type": "display_data"
    },
    {
     "name": "stdout",
     "output_type": "stream",
     "text": [
      "\n"
     ]
    },
    {
     "data": {
      "text/html": [
       "<div>\n",
       "<style scoped>\n",
       "    .dataframe tbody tr th:only-of-type {\n",
       "        vertical-align: middle;\n",
       "    }\n",
       "\n",
       "    .dataframe tbody tr th {\n",
       "        vertical-align: top;\n",
       "    }\n",
       "\n",
       "    .dataframe thead th {\n",
       "        text-align: right;\n",
       "    }\n",
       "</style>\n",
       "<table border=\"1\" class=\"dataframe\">\n",
       "  <thead>\n",
       "    <tr style=\"text-align: right;\">\n",
       "      <th></th>\n",
       "      <th>d</th>\n",
       "      <th>epoch</th>\n",
       "      <th>g</th>\n",
       "      <th>iter</th>\n",
       "      <th>loss</th>\n",
       "      <th>timestamp</th>\n",
       "    </tr>\n",
       "  </thead>\n",
       "  <tbody>\n",
       "    <tr>\n",
       "      <th>mean</th>\n",
       "      <td>-0.010646</td>\n",
       "      <td>7.0</td>\n",
       "      <td>0.005450</td>\n",
       "      <td>937.0</td>\n",
       "      <td>-0.007965</td>\n",
       "      <td>0.024130</td>\n",
       "    </tr>\n",
       "    <tr>\n",
       "      <th>min</th>\n",
       "      <td>-0.013937</td>\n",
       "      <td>7.0</td>\n",
       "      <td>0.002292</td>\n",
       "      <td>0.0</td>\n",
       "      <td>-0.013937</td>\n",
       "      <td>0.000000</td>\n",
       "    </tr>\n",
       "    <tr>\n",
       "      <th>max</th>\n",
       "      <td>-0.004845</td>\n",
       "      <td>7.0</td>\n",
       "      <td>0.007263</td>\n",
       "      <td>1874.0</td>\n",
       "      <td>0.007263</td>\n",
       "      <td>45.243568</td>\n",
       "    </tr>\n",
       "  </tbody>\n",
       "</table>\n",
       "</div>"
      ],
      "text/plain": [
       "             d  epoch         g    iter      loss  timestamp\n",
       "mean -0.010646    7.0  0.005450   937.0 -0.007965   0.024130\n",
       "min  -0.013937    7.0  0.002292     0.0 -0.013937   0.000000\n",
       "max  -0.004845    7.0  0.007263  1874.0  0.007263  45.243568"
      ]
     },
     "metadata": {},
     "output_type": "display_data"
    },
    {
     "data": {
      "application/vnd.jupyter.widget-view+json": {
       "model_id": "1a6fab0582c64872bf4548361aa6e548",
       "version_major": 2,
       "version_minor": 0
      },
      "text/plain": [
       "HBox(children=(IntProgress(value=0, max=1875), HTML(value='')))"
      ]
     },
     "metadata": {},
     "output_type": "display_data"
    },
    {
     "name": "stdout",
     "output_type": "stream",
     "text": [
      "\n"
     ]
    },
    {
     "data": {
      "text/html": [
       "<div>\n",
       "<style scoped>\n",
       "    .dataframe tbody tr th:only-of-type {\n",
       "        vertical-align: middle;\n",
       "    }\n",
       "\n",
       "    .dataframe tbody tr th {\n",
       "        vertical-align: top;\n",
       "    }\n",
       "\n",
       "    .dataframe thead th {\n",
       "        text-align: right;\n",
       "    }\n",
       "</style>\n",
       "<table border=\"1\" class=\"dataframe\">\n",
       "  <thead>\n",
       "    <tr style=\"text-align: right;\">\n",
       "      <th></th>\n",
       "      <th>d</th>\n",
       "      <th>epoch</th>\n",
       "      <th>g</th>\n",
       "      <th>iter</th>\n",
       "      <th>loss</th>\n",
       "      <th>timestamp</th>\n",
       "    </tr>\n",
       "  </thead>\n",
       "  <tbody>\n",
       "    <tr>\n",
       "      <th>mean</th>\n",
       "      <td>-0.010999</td>\n",
       "      <td>8.0</td>\n",
       "      <td>0.005484</td>\n",
       "      <td>937.0</td>\n",
       "      <td>-0.008237</td>\n",
       "      <td>0.024167</td>\n",
       "    </tr>\n",
       "    <tr>\n",
       "      <th>min</th>\n",
       "      <td>-0.014026</td>\n",
       "      <td>8.0</td>\n",
       "      <td>0.002381</td>\n",
       "      <td>0.0</td>\n",
       "      <td>-0.014026</td>\n",
       "      <td>0.000000</td>\n",
       "    </tr>\n",
       "    <tr>\n",
       "      <th>max</th>\n",
       "      <td>-0.004181</td>\n",
       "      <td>8.0</td>\n",
       "      <td>0.007240</td>\n",
       "      <td>1874.0</td>\n",
       "      <td>0.007240</td>\n",
       "      <td>45.313961</td>\n",
       "    </tr>\n",
       "  </tbody>\n",
       "</table>\n",
       "</div>"
      ],
      "text/plain": [
       "             d  epoch         g    iter      loss  timestamp\n",
       "mean -0.010999    8.0  0.005484   937.0 -0.008237   0.024167\n",
       "min  -0.014026    8.0  0.002381     0.0 -0.014026   0.000000\n",
       "max  -0.004181    8.0  0.007240  1874.0  0.007240  45.313961"
      ]
     },
     "metadata": {},
     "output_type": "display_data"
    },
    {
     "data": {
      "application/vnd.jupyter.widget-view+json": {
       "model_id": "14336c8284d54707be1dbc5fe18c1897",
       "version_major": 2,
       "version_minor": 0
      },
      "text/plain": [
       "HBox(children=(IntProgress(value=0, max=1875), HTML(value='')))"
      ]
     },
     "metadata": {},
     "output_type": "display_data"
    },
    {
     "name": "stdout",
     "output_type": "stream",
     "text": [
      "\n"
     ]
    },
    {
     "data": {
      "text/html": [
       "<div>\n",
       "<style scoped>\n",
       "    .dataframe tbody tr th:only-of-type {\n",
       "        vertical-align: middle;\n",
       "    }\n",
       "\n",
       "    .dataframe tbody tr th {\n",
       "        vertical-align: top;\n",
       "    }\n",
       "\n",
       "    .dataframe thead th {\n",
       "        text-align: right;\n",
       "    }\n",
       "</style>\n",
       "<table border=\"1\" class=\"dataframe\">\n",
       "  <thead>\n",
       "    <tr style=\"text-align: right;\">\n",
       "      <th></th>\n",
       "      <th>d</th>\n",
       "      <th>epoch</th>\n",
       "      <th>g</th>\n",
       "      <th>iter</th>\n",
       "      <th>loss</th>\n",
       "      <th>timestamp</th>\n",
       "    </tr>\n",
       "  </thead>\n",
       "  <tbody>\n",
       "    <tr>\n",
       "      <th>mean</th>\n",
       "      <td>-0.011041</td>\n",
       "      <td>9.0</td>\n",
       "      <td>0.005569</td>\n",
       "      <td>937.0</td>\n",
       "      <td>-0.008268</td>\n",
       "      <td>0.024197</td>\n",
       "    </tr>\n",
       "    <tr>\n",
       "      <th>min</th>\n",
       "      <td>-0.014525</td>\n",
       "      <td>9.0</td>\n",
       "      <td>0.002469</td>\n",
       "      <td>0.0</td>\n",
       "      <td>-0.014525</td>\n",
       "      <td>0.000000</td>\n",
       "    </tr>\n",
       "    <tr>\n",
       "      <th>max</th>\n",
       "      <td>-0.004636</td>\n",
       "      <td>9.0</td>\n",
       "      <td>0.007424</td>\n",
       "      <td>1874.0</td>\n",
       "      <td>0.007424</td>\n",
       "      <td>45.369216</td>\n",
       "    </tr>\n",
       "  </tbody>\n",
       "</table>\n",
       "</div>"
      ],
      "text/plain": [
       "             d  epoch         g    iter      loss  timestamp\n",
       "mean -0.011041    9.0  0.005569   937.0 -0.008268   0.024197\n",
       "min  -0.014525    9.0  0.002469     0.0 -0.014525   0.000000\n",
       "max  -0.004636    9.0  0.007424  1874.0  0.007424  45.369216"
      ]
     },
     "metadata": {},
     "output_type": "display_data"
    },
    {
     "data": {
      "application/vnd.jupyter.widget-view+json": {
       "model_id": "bf0587386d93451a8e431ed231b73431",
       "version_major": 2,
       "version_minor": 0
      },
      "text/plain": [
       "HBox(children=(IntProgress(value=0, max=1875), HTML(value='')))"
      ]
     },
     "metadata": {},
     "output_type": "display_data"
    },
    {
     "name": "stdout",
     "output_type": "stream",
     "text": [
      "\n"
     ]
    },
    {
     "data": {
      "text/html": [
       "<div>\n",
       "<style scoped>\n",
       "    .dataframe tbody tr th:only-of-type {\n",
       "        vertical-align: middle;\n",
       "    }\n",
       "\n",
       "    .dataframe tbody tr th {\n",
       "        vertical-align: top;\n",
       "    }\n",
       "\n",
       "    .dataframe thead th {\n",
       "        text-align: right;\n",
       "    }\n",
       "</style>\n",
       "<table border=\"1\" class=\"dataframe\">\n",
       "  <thead>\n",
       "    <tr style=\"text-align: right;\">\n",
       "      <th></th>\n",
       "      <th>d</th>\n",
       "      <th>epoch</th>\n",
       "      <th>g</th>\n",
       "      <th>iter</th>\n",
       "      <th>loss</th>\n",
       "      <th>timestamp</th>\n",
       "    </tr>\n",
       "  </thead>\n",
       "  <tbody>\n",
       "    <tr>\n",
       "      <th>mean</th>\n",
       "      <td>-0.010701</td>\n",
       "      <td>10.0</td>\n",
       "      <td>0.005564</td>\n",
       "      <td>937.0</td>\n",
       "      <td>-0.007989</td>\n",
       "      <td>0.024196</td>\n",
       "    </tr>\n",
       "    <tr>\n",
       "      <th>min</th>\n",
       "      <td>-0.014652</td>\n",
       "      <td>10.0</td>\n",
       "      <td>0.002096</td>\n",
       "      <td>0.0</td>\n",
       "      <td>-0.014652</td>\n",
       "      <td>0.000000</td>\n",
       "    </tr>\n",
       "    <tr>\n",
       "      <th>max</th>\n",
       "      <td>-0.005410</td>\n",
       "      <td>10.0</td>\n",
       "      <td>0.007402</td>\n",
       "      <td>1874.0</td>\n",
       "      <td>0.007402</td>\n",
       "      <td>45.366699</td>\n",
       "    </tr>\n",
       "  </tbody>\n",
       "</table>\n",
       "</div>"
      ],
      "text/plain": [
       "             d  epoch         g    iter      loss  timestamp\n",
       "mean -0.010701   10.0  0.005564   937.0 -0.007989   0.024196\n",
       "min  -0.014652   10.0  0.002096     0.0 -0.014652   0.000000\n",
       "max  -0.005410   10.0  0.007402  1874.0  0.007402  45.366699"
      ]
     },
     "metadata": {},
     "output_type": "display_data"
    },
    {
     "data": {
      "application/vnd.jupyter.widget-view+json": {
       "model_id": "f3e1bdb2ea9645ccbaea2bdfa558c6cb",
       "version_major": 2,
       "version_minor": 0
      },
      "text/plain": [
       "HBox(children=(IntProgress(value=0, max=1875), HTML(value='')))"
      ]
     },
     "metadata": {},
     "output_type": "display_data"
    },
    {
     "name": "stdout",
     "output_type": "stream",
     "text": [
      "\n"
     ]
    },
    {
     "data": {
      "text/html": [
       "<div>\n",
       "<style scoped>\n",
       "    .dataframe tbody tr th:only-of-type {\n",
       "        vertical-align: middle;\n",
       "    }\n",
       "\n",
       "    .dataframe tbody tr th {\n",
       "        vertical-align: top;\n",
       "    }\n",
       "\n",
       "    .dataframe thead th {\n",
       "        text-align: right;\n",
       "    }\n",
       "</style>\n",
       "<table border=\"1\" class=\"dataframe\">\n",
       "  <thead>\n",
       "    <tr style=\"text-align: right;\">\n",
       "      <th></th>\n",
       "      <th>d</th>\n",
       "      <th>epoch</th>\n",
       "      <th>g</th>\n",
       "      <th>iter</th>\n",
       "      <th>loss</th>\n",
       "      <th>timestamp</th>\n",
       "    </tr>\n",
       "  </thead>\n",
       "  <tbody>\n",
       "    <tr>\n",
       "      <th>mean</th>\n",
       "      <td>-0.010356</td>\n",
       "      <td>11.0</td>\n",
       "      <td>0.005240</td>\n",
       "      <td>937.0</td>\n",
       "      <td>-0.007754</td>\n",
       "      <td>0.024193</td>\n",
       "    </tr>\n",
       "    <tr>\n",
       "      <th>min</th>\n",
       "      <td>-0.014174</td>\n",
       "      <td>11.0</td>\n",
       "      <td>-0.000394</td>\n",
       "      <td>0.0</td>\n",
       "      <td>-0.014174</td>\n",
       "      <td>0.000000</td>\n",
       "    </tr>\n",
       "    <tr>\n",
       "      <th>max</th>\n",
       "      <td>-0.004528</td>\n",
       "      <td>11.0</td>\n",
       "      <td>0.007557</td>\n",
       "      <td>1874.0</td>\n",
       "      <td>0.007557</td>\n",
       "      <td>45.361296</td>\n",
       "    </tr>\n",
       "  </tbody>\n",
       "</table>\n",
       "</div>"
      ],
      "text/plain": [
       "             d  epoch         g    iter      loss  timestamp\n",
       "mean -0.010356   11.0  0.005240   937.0 -0.007754   0.024193\n",
       "min  -0.014174   11.0 -0.000394     0.0 -0.014174   0.000000\n",
       "max  -0.004528   11.0  0.007557  1874.0  0.007557  45.361296"
      ]
     },
     "metadata": {},
     "output_type": "display_data"
    },
    {
     "data": {
      "application/vnd.jupyter.widget-view+json": {
       "model_id": "5376f9cac77a4e62b2e41c344c854819",
       "version_major": 2,
       "version_minor": 0
      },
      "text/plain": [
       "HBox(children=(IntProgress(value=0, max=1875), HTML(value='')))"
      ]
     },
     "metadata": {},
     "output_type": "display_data"
    },
    {
     "name": "stdout",
     "output_type": "stream",
     "text": [
      "\n"
     ]
    },
    {
     "data": {
      "text/html": [
       "<div>\n",
       "<style scoped>\n",
       "    .dataframe tbody tr th:only-of-type {\n",
       "        vertical-align: middle;\n",
       "    }\n",
       "\n",
       "    .dataframe tbody tr th {\n",
       "        vertical-align: top;\n",
       "    }\n",
       "\n",
       "    .dataframe thead th {\n",
       "        text-align: right;\n",
       "    }\n",
       "</style>\n",
       "<table border=\"1\" class=\"dataframe\">\n",
       "  <thead>\n",
       "    <tr style=\"text-align: right;\">\n",
       "      <th></th>\n",
       "      <th>d</th>\n",
       "      <th>epoch</th>\n",
       "      <th>g</th>\n",
       "      <th>iter</th>\n",
       "      <th>loss</th>\n",
       "      <th>timestamp</th>\n",
       "    </tr>\n",
       "  </thead>\n",
       "  <tbody>\n",
       "    <tr>\n",
       "      <th>mean</th>\n",
       "      <td>-0.010279</td>\n",
       "      <td>12.0</td>\n",
       "      <td>0.005233</td>\n",
       "      <td>937.0</td>\n",
       "      <td>-0.007678</td>\n",
       "      <td>0.024197</td>\n",
       "    </tr>\n",
       "    <tr>\n",
       "      <th>min</th>\n",
       "      <td>-0.014128</td>\n",
       "      <td>12.0</td>\n",
       "      <td>0.000060</td>\n",
       "      <td>0.0</td>\n",
       "      <td>-0.014128</td>\n",
       "      <td>0.000000</td>\n",
       "    </tr>\n",
       "    <tr>\n",
       "      <th>max</th>\n",
       "      <td>-0.004416</td>\n",
       "      <td>12.0</td>\n",
       "      <td>0.007992</td>\n",
       "      <td>1874.0</td>\n",
       "      <td>0.007992</td>\n",
       "      <td>45.369419</td>\n",
       "    </tr>\n",
       "  </tbody>\n",
       "</table>\n",
       "</div>"
      ],
      "text/plain": [
       "             d  epoch         g    iter      loss  timestamp\n",
       "mean -0.010279   12.0  0.005233   937.0 -0.007678   0.024197\n",
       "min  -0.014128   12.0  0.000060     0.0 -0.014128   0.000000\n",
       "max  -0.004416   12.0  0.007992  1874.0  0.007992  45.369419"
      ]
     },
     "metadata": {},
     "output_type": "display_data"
    },
    {
     "data": {
      "application/vnd.jupyter.widget-view+json": {
       "model_id": "f0ece51db3ff4ceaaccf61f8eb20a541",
       "version_major": 2,
       "version_minor": 0
      },
      "text/plain": [
       "HBox(children=(IntProgress(value=0, max=1875), HTML(value='')))"
      ]
     },
     "metadata": {},
     "output_type": "display_data"
    },
    {
     "name": "stdout",
     "output_type": "stream",
     "text": [
      "\n"
     ]
    },
    {
     "data": {
      "text/html": [
       "<div>\n",
       "<style scoped>\n",
       "    .dataframe tbody tr th:only-of-type {\n",
       "        vertical-align: middle;\n",
       "    }\n",
       "\n",
       "    .dataframe tbody tr th {\n",
       "        vertical-align: top;\n",
       "    }\n",
       "\n",
       "    .dataframe thead th {\n",
       "        text-align: right;\n",
       "    }\n",
       "</style>\n",
       "<table border=\"1\" class=\"dataframe\">\n",
       "  <thead>\n",
       "    <tr style=\"text-align: right;\">\n",
       "      <th></th>\n",
       "      <th>d</th>\n",
       "      <th>epoch</th>\n",
       "      <th>g</th>\n",
       "      <th>iter</th>\n",
       "      <th>loss</th>\n",
       "      <th>timestamp</th>\n",
       "    </tr>\n",
       "  </thead>\n",
       "  <tbody>\n",
       "    <tr>\n",
       "      <th>mean</th>\n",
       "      <td>-0.010214</td>\n",
       "      <td>13.0</td>\n",
       "      <td>0.005112</td>\n",
       "      <td>937.0</td>\n",
       "      <td>-0.007652</td>\n",
       "      <td>0.024159</td>\n",
       "    </tr>\n",
       "    <tr>\n",
       "      <th>min</th>\n",
       "      <td>-0.014036</td>\n",
       "      <td>13.0</td>\n",
       "      <td>0.001512</td>\n",
       "      <td>0.0</td>\n",
       "      <td>-0.014036</td>\n",
       "      <td>0.000000</td>\n",
       "    </tr>\n",
       "    <tr>\n",
       "      <th>max</th>\n",
       "      <td>-0.004096</td>\n",
       "      <td>13.0</td>\n",
       "      <td>0.007617</td>\n",
       "      <td>1874.0</td>\n",
       "      <td>0.007617</td>\n",
       "      <td>45.298266</td>\n",
       "    </tr>\n",
       "  </tbody>\n",
       "</table>\n",
       "</div>"
      ],
      "text/plain": [
       "             d  epoch         g    iter      loss  timestamp\n",
       "mean -0.010214   13.0  0.005112   937.0 -0.007652   0.024159\n",
       "min  -0.014036   13.0  0.001512     0.0 -0.014036   0.000000\n",
       "max  -0.004096   13.0  0.007617  1874.0  0.007617  45.298266"
      ]
     },
     "metadata": {},
     "output_type": "display_data"
    },
    {
     "data": {
      "application/vnd.jupyter.widget-view+json": {
       "model_id": "a1c0d0af645f4f228a44b3881a498a81",
       "version_major": 2,
       "version_minor": 0
      },
      "text/plain": [
       "HBox(children=(IntProgress(value=0, max=1875), HTML(value='')))"
      ]
     },
     "metadata": {},
     "output_type": "display_data"
    },
    {
     "name": "stdout",
     "output_type": "stream",
     "text": [
      "\n"
     ]
    },
    {
     "data": {
      "text/html": [
       "<div>\n",
       "<style scoped>\n",
       "    .dataframe tbody tr th:only-of-type {\n",
       "        vertical-align: middle;\n",
       "    }\n",
       "\n",
       "    .dataframe tbody tr th {\n",
       "        vertical-align: top;\n",
       "    }\n",
       "\n",
       "    .dataframe thead th {\n",
       "        text-align: right;\n",
       "    }\n",
       "</style>\n",
       "<table border=\"1\" class=\"dataframe\">\n",
       "  <thead>\n",
       "    <tr style=\"text-align: right;\">\n",
       "      <th></th>\n",
       "      <th>d</th>\n",
       "      <th>epoch</th>\n",
       "      <th>g</th>\n",
       "      <th>iter</th>\n",
       "      <th>loss</th>\n",
       "      <th>timestamp</th>\n",
       "    </tr>\n",
       "  </thead>\n",
       "  <tbody>\n",
       "    <tr>\n",
       "      <th>mean</th>\n",
       "      <td>-0.009860</td>\n",
       "      <td>14.0</td>\n",
       "      <td>0.004920</td>\n",
       "      <td>937.0</td>\n",
       "      <td>-0.007396</td>\n",
       "      <td>0.024146</td>\n",
       "    </tr>\n",
       "    <tr>\n",
       "      <th>min</th>\n",
       "      <td>-0.013613</td>\n",
       "      <td>14.0</td>\n",
       "      <td>-0.000903</td>\n",
       "      <td>0.0</td>\n",
       "      <td>-0.013613</td>\n",
       "      <td>0.000000</td>\n",
       "    </tr>\n",
       "    <tr>\n",
       "      <th>max</th>\n",
       "      <td>-0.001141</td>\n",
       "      <td>14.0</td>\n",
       "      <td>0.007609</td>\n",
       "      <td>1874.0</td>\n",
       "      <td>0.007609</td>\n",
       "      <td>45.273651</td>\n",
       "    </tr>\n",
       "  </tbody>\n",
       "</table>\n",
       "</div>"
      ],
      "text/plain": [
       "             d  epoch         g    iter      loss  timestamp\n",
       "mean -0.009860   14.0  0.004920   937.0 -0.007396   0.024146\n",
       "min  -0.013613   14.0 -0.000903     0.0 -0.013613   0.000000\n",
       "max  -0.001141   14.0  0.007609  1874.0  0.007609  45.273651"
      ]
     },
     "metadata": {},
     "output_type": "display_data"
    },
    {
     "data": {
      "application/vnd.jupyter.widget-view+json": {
       "model_id": "13f325a46a2247d0a94b55fb4c17a2b5",
       "version_major": 2,
       "version_minor": 0
      },
      "text/plain": [
       "HBox(children=(IntProgress(value=0, max=1875), HTML(value='')))"
      ]
     },
     "metadata": {},
     "output_type": "display_data"
    },
    {
     "name": "stdout",
     "output_type": "stream",
     "text": [
      "\n"
     ]
    },
    {
     "data": {
      "text/html": [
       "<div>\n",
       "<style scoped>\n",
       "    .dataframe tbody tr th:only-of-type {\n",
       "        vertical-align: middle;\n",
       "    }\n",
       "\n",
       "    .dataframe tbody tr th {\n",
       "        vertical-align: top;\n",
       "    }\n",
       "\n",
       "    .dataframe thead th {\n",
       "        text-align: right;\n",
       "    }\n",
       "</style>\n",
       "<table border=\"1\" class=\"dataframe\">\n",
       "  <thead>\n",
       "    <tr style=\"text-align: right;\">\n",
       "      <th></th>\n",
       "      <th>d</th>\n",
       "      <th>epoch</th>\n",
       "      <th>g</th>\n",
       "      <th>iter</th>\n",
       "      <th>loss</th>\n",
       "      <th>timestamp</th>\n",
       "    </tr>\n",
       "  </thead>\n",
       "  <tbody>\n",
       "    <tr>\n",
       "      <th>mean</th>\n",
       "      <td>-0.009890</td>\n",
       "      <td>15.0</td>\n",
       "      <td>0.004926</td>\n",
       "      <td>937.0</td>\n",
       "      <td>-0.007411</td>\n",
       "      <td>0.024145</td>\n",
       "    </tr>\n",
       "    <tr>\n",
       "      <th>min</th>\n",
       "      <td>-0.013418</td>\n",
       "      <td>15.0</td>\n",
       "      <td>0.000834</td>\n",
       "      <td>0.0</td>\n",
       "      <td>-0.013418</td>\n",
       "      <td>0.000000</td>\n",
       "    </tr>\n",
       "    <tr>\n",
       "      <th>max</th>\n",
       "      <td>-0.002698</td>\n",
       "      <td>15.0</td>\n",
       "      <td>0.007255</td>\n",
       "      <td>1874.0</td>\n",
       "      <td>0.007255</td>\n",
       "      <td>45.271980</td>\n",
       "    </tr>\n",
       "  </tbody>\n",
       "</table>\n",
       "</div>"
      ],
      "text/plain": [
       "             d  epoch         g    iter      loss  timestamp\n",
       "mean -0.009890   15.0  0.004926   937.0 -0.007411   0.024145\n",
       "min  -0.013418   15.0  0.000834     0.0 -0.013418   0.000000\n",
       "max  -0.002698   15.0  0.007255  1874.0  0.007255  45.271980"
      ]
     },
     "metadata": {},
     "output_type": "display_data"
    },
    {
     "data": {
      "application/vnd.jupyter.widget-view+json": {
       "model_id": "8b60d9d4612e4249b4db5c4a17e424ff",
       "version_major": 2,
       "version_minor": 0
      },
      "text/plain": [
       "HBox(children=(IntProgress(value=0, max=1875), HTML(value='')))"
      ]
     },
     "metadata": {},
     "output_type": "display_data"
    },
    {
     "name": "stdout",
     "output_type": "stream",
     "text": [
      "\n"
     ]
    },
    {
     "data": {
      "text/html": [
       "<div>\n",
       "<style scoped>\n",
       "    .dataframe tbody tr th:only-of-type {\n",
       "        vertical-align: middle;\n",
       "    }\n",
       "\n",
       "    .dataframe tbody tr th {\n",
       "        vertical-align: top;\n",
       "    }\n",
       "\n",
       "    .dataframe thead th {\n",
       "        text-align: right;\n",
       "    }\n",
       "</style>\n",
       "<table border=\"1\" class=\"dataframe\">\n",
       "  <thead>\n",
       "    <tr style=\"text-align: right;\">\n",
       "      <th></th>\n",
       "      <th>d</th>\n",
       "      <th>epoch</th>\n",
       "      <th>g</th>\n",
       "      <th>iter</th>\n",
       "      <th>loss</th>\n",
       "      <th>timestamp</th>\n",
       "    </tr>\n",
       "  </thead>\n",
       "  <tbody>\n",
       "    <tr>\n",
       "      <th>mean</th>\n",
       "      <td>-0.009826</td>\n",
       "      <td>16.0</td>\n",
       "      <td>0.005032</td>\n",
       "      <td>937.0</td>\n",
       "      <td>-0.007333</td>\n",
       "      <td>0.024226</td>\n",
       "    </tr>\n",
       "    <tr>\n",
       "      <th>min</th>\n",
       "      <td>-0.013385</td>\n",
       "      <td>16.0</td>\n",
       "      <td>-0.000780</td>\n",
       "      <td>0.0</td>\n",
       "      <td>-0.013385</td>\n",
       "      <td>0.000000</td>\n",
       "    </tr>\n",
       "    <tr>\n",
       "      <th>max</th>\n",
       "      <td>-0.004016</td>\n",
       "      <td>16.0</td>\n",
       "      <td>0.007384</td>\n",
       "      <td>1874.0</td>\n",
       "      <td>0.007384</td>\n",
       "      <td>45.424098</td>\n",
       "    </tr>\n",
       "  </tbody>\n",
       "</table>\n",
       "</div>"
      ],
      "text/plain": [
       "             d  epoch         g    iter      loss  timestamp\n",
       "mean -0.009826   16.0  0.005032   937.0 -0.007333   0.024226\n",
       "min  -0.013385   16.0 -0.000780     0.0 -0.013385   0.000000\n",
       "max  -0.004016   16.0  0.007384  1874.0  0.007384  45.424098"
      ]
     },
     "metadata": {},
     "output_type": "display_data"
    },
    {
     "data": {
      "application/vnd.jupyter.widget-view+json": {
       "model_id": "bfd96fb4df4e4823bba0f69f5c2bccf8",
       "version_major": 2,
       "version_minor": 0
      },
      "text/plain": [
       "HBox(children=(IntProgress(value=0, max=1875), HTML(value='')))"
      ]
     },
     "metadata": {},
     "output_type": "display_data"
    },
    {
     "name": "stdout",
     "output_type": "stream",
     "text": [
      "\n"
     ]
    },
    {
     "data": {
      "text/html": [
       "<div>\n",
       "<style scoped>\n",
       "    .dataframe tbody tr th:only-of-type {\n",
       "        vertical-align: middle;\n",
       "    }\n",
       "\n",
       "    .dataframe tbody tr th {\n",
       "        vertical-align: top;\n",
       "    }\n",
       "\n",
       "    .dataframe thead th {\n",
       "        text-align: right;\n",
       "    }\n",
       "</style>\n",
       "<table border=\"1\" class=\"dataframe\">\n",
       "  <thead>\n",
       "    <tr style=\"text-align: right;\">\n",
       "      <th></th>\n",
       "      <th>d</th>\n",
       "      <th>epoch</th>\n",
       "      <th>g</th>\n",
       "      <th>iter</th>\n",
       "      <th>loss</th>\n",
       "      <th>timestamp</th>\n",
       "    </tr>\n",
       "  </thead>\n",
       "  <tbody>\n",
       "    <tr>\n",
       "      <th>mean</th>\n",
       "      <td>-0.009747</td>\n",
       "      <td>17.0</td>\n",
       "      <td>0.004780</td>\n",
       "      <td>937.0</td>\n",
       "      <td>-0.007309</td>\n",
       "      <td>0.024191</td>\n",
       "    </tr>\n",
       "    <tr>\n",
       "      <th>min</th>\n",
       "      <td>-0.013329</td>\n",
       "      <td>17.0</td>\n",
       "      <td>0.000654</td>\n",
       "      <td>0.0</td>\n",
       "      <td>-0.013329</td>\n",
       "      <td>0.000000</td>\n",
       "    </tr>\n",
       "    <tr>\n",
       "      <th>max</th>\n",
       "      <td>-0.003700</td>\n",
       "      <td>17.0</td>\n",
       "      <td>0.006975</td>\n",
       "      <td>1874.0</td>\n",
       "      <td>0.006975</td>\n",
       "      <td>45.358109</td>\n",
       "    </tr>\n",
       "  </tbody>\n",
       "</table>\n",
       "</div>"
      ],
      "text/plain": [
       "             d  epoch         g    iter      loss  timestamp\n",
       "mean -0.009747   17.0  0.004780   937.0 -0.007309   0.024191\n",
       "min  -0.013329   17.0  0.000654     0.0 -0.013329   0.000000\n",
       "max  -0.003700   17.0  0.006975  1874.0  0.006975  45.358109"
      ]
     },
     "metadata": {},
     "output_type": "display_data"
    },
    {
     "data": {
      "application/vnd.jupyter.widget-view+json": {
       "model_id": "864227a27d4e4c85a6de25e8f02ed555",
       "version_major": 2,
       "version_minor": 0
      },
      "text/plain": [
       "HBox(children=(IntProgress(value=0, max=1875), HTML(value='')))"
      ]
     },
     "metadata": {},
     "output_type": "display_data"
    },
    {
     "name": "stdout",
     "output_type": "stream",
     "text": [
      "\n"
     ]
    },
    {
     "data": {
      "text/html": [
       "<div>\n",
       "<style scoped>\n",
       "    .dataframe tbody tr th:only-of-type {\n",
       "        vertical-align: middle;\n",
       "    }\n",
       "\n",
       "    .dataframe tbody tr th {\n",
       "        vertical-align: top;\n",
       "    }\n",
       "\n",
       "    .dataframe thead th {\n",
       "        text-align: right;\n",
       "    }\n",
       "</style>\n",
       "<table border=\"1\" class=\"dataframe\">\n",
       "  <thead>\n",
       "    <tr style=\"text-align: right;\">\n",
       "      <th></th>\n",
       "      <th>d</th>\n",
       "      <th>epoch</th>\n",
       "      <th>g</th>\n",
       "      <th>iter</th>\n",
       "      <th>loss</th>\n",
       "      <th>timestamp</th>\n",
       "    </tr>\n",
       "  </thead>\n",
       "  <tbody>\n",
       "    <tr>\n",
       "      <th>mean</th>\n",
       "      <td>-0.009651</td>\n",
       "      <td>18.0</td>\n",
       "      <td>0.004840</td>\n",
       "      <td>937.0</td>\n",
       "      <td>-0.007225</td>\n",
       "      <td>0.024132</td>\n",
       "    </tr>\n",
       "    <tr>\n",
       "      <th>min</th>\n",
       "      <td>-0.013394</td>\n",
       "      <td>18.0</td>\n",
       "      <td>0.000528</td>\n",
       "      <td>0.0</td>\n",
       "      <td>-0.013394</td>\n",
       "      <td>0.000000</td>\n",
       "    </tr>\n",
       "    <tr>\n",
       "      <th>max</th>\n",
       "      <td>-0.003619</td>\n",
       "      <td>18.0</td>\n",
       "      <td>0.007068</td>\n",
       "      <td>1874.0</td>\n",
       "      <td>0.007068</td>\n",
       "      <td>45.247599</td>\n",
       "    </tr>\n",
       "  </tbody>\n",
       "</table>\n",
       "</div>"
      ],
      "text/plain": [
       "             d  epoch         g    iter      loss  timestamp\n",
       "mean -0.009651   18.0  0.004840   937.0 -0.007225   0.024132\n",
       "min  -0.013394   18.0  0.000528     0.0 -0.013394   0.000000\n",
       "max  -0.003619   18.0  0.007068  1874.0  0.007068  45.247599"
      ]
     },
     "metadata": {},
     "output_type": "display_data"
    },
    {
     "data": {
      "application/vnd.jupyter.widget-view+json": {
       "model_id": "f7c64e7abc524477b990a7c403ec2452",
       "version_major": 2,
       "version_minor": 0
      },
      "text/plain": [
       "HBox(children=(IntProgress(value=0, max=1875), HTML(value='')))"
      ]
     },
     "metadata": {},
     "output_type": "display_data"
    },
    {
     "name": "stdout",
     "output_type": "stream",
     "text": [
      "\n"
     ]
    },
    {
     "data": {
      "text/html": [
       "<div>\n",
       "<style scoped>\n",
       "    .dataframe tbody tr th:only-of-type {\n",
       "        vertical-align: middle;\n",
       "    }\n",
       "\n",
       "    .dataframe tbody tr th {\n",
       "        vertical-align: top;\n",
       "    }\n",
       "\n",
       "    .dataframe thead th {\n",
       "        text-align: right;\n",
       "    }\n",
       "</style>\n",
       "<table border=\"1\" class=\"dataframe\">\n",
       "  <thead>\n",
       "    <tr style=\"text-align: right;\">\n",
       "      <th></th>\n",
       "      <th>d</th>\n",
       "      <th>epoch</th>\n",
       "      <th>g</th>\n",
       "      <th>iter</th>\n",
       "      <th>loss</th>\n",
       "      <th>timestamp</th>\n",
       "    </tr>\n",
       "  </thead>\n",
       "  <tbody>\n",
       "    <tr>\n",
       "      <th>mean</th>\n",
       "      <td>-0.009639</td>\n",
       "      <td>19.0</td>\n",
       "      <td>0.004747</td>\n",
       "      <td>937.0</td>\n",
       "      <td>-0.007237</td>\n",
       "      <td>0.024177</td>\n",
       "    </tr>\n",
       "    <tr>\n",
       "      <th>min</th>\n",
       "      <td>-0.013289</td>\n",
       "      <td>19.0</td>\n",
       "      <td>-0.000432</td>\n",
       "      <td>0.0</td>\n",
       "      <td>-0.013289</td>\n",
       "      <td>0.000000</td>\n",
       "    </tr>\n",
       "    <tr>\n",
       "      <th>max</th>\n",
       "      <td>-0.004035</td>\n",
       "      <td>19.0</td>\n",
       "      <td>0.007270</td>\n",
       "      <td>1874.0</td>\n",
       "      <td>0.007270</td>\n",
       "      <td>45.331395</td>\n",
       "    </tr>\n",
       "  </tbody>\n",
       "</table>\n",
       "</div>"
      ],
      "text/plain": [
       "             d  epoch         g    iter      loss  timestamp\n",
       "mean -0.009639   19.0  0.004747   937.0 -0.007237   0.024177\n",
       "min  -0.013289   19.0 -0.000432     0.0 -0.013289   0.000000\n",
       "max  -0.004035   19.0  0.007270  1874.0  0.007270  45.331395"
      ]
     },
     "metadata": {},
     "output_type": "display_data"
    },
    {
     "data": {
      "application/vnd.jupyter.widget-view+json": {
       "model_id": "9f82756f688d44c2a7072ae0db141521",
       "version_major": 2,
       "version_minor": 0
      },
      "text/plain": [
       "HBox(children=(IntProgress(value=0, max=1875), HTML(value='')))"
      ]
     },
     "metadata": {},
     "output_type": "display_data"
    },
    {
     "name": "stdout",
     "output_type": "stream",
     "text": [
      "\n"
     ]
    },
    {
     "data": {
      "text/html": [
       "<div>\n",
       "<style scoped>\n",
       "    .dataframe tbody tr th:only-of-type {\n",
       "        vertical-align: middle;\n",
       "    }\n",
       "\n",
       "    .dataframe tbody tr th {\n",
       "        vertical-align: top;\n",
       "    }\n",
       "\n",
       "    .dataframe thead th {\n",
       "        text-align: right;\n",
       "    }\n",
       "</style>\n",
       "<table border=\"1\" class=\"dataframe\">\n",
       "  <thead>\n",
       "    <tr style=\"text-align: right;\">\n",
       "      <th></th>\n",
       "      <th>d</th>\n",
       "      <th>epoch</th>\n",
       "      <th>g</th>\n",
       "      <th>iter</th>\n",
       "      <th>loss</th>\n",
       "      <th>timestamp</th>\n",
       "    </tr>\n",
       "  </thead>\n",
       "  <tbody>\n",
       "    <tr>\n",
       "      <th>mean</th>\n",
       "      <td>-0.009626</td>\n",
       "      <td>20.0</td>\n",
       "      <td>0.004826</td>\n",
       "      <td>937.0</td>\n",
       "      <td>-0.007193</td>\n",
       "      <td>0.024205</td>\n",
       "    </tr>\n",
       "    <tr>\n",
       "      <th>min</th>\n",
       "      <td>-0.013573</td>\n",
       "      <td>20.0</td>\n",
       "      <td>-0.001170</td>\n",
       "      <td>0.0</td>\n",
       "      <td>-0.013573</td>\n",
       "      <td>0.000000</td>\n",
       "    </tr>\n",
       "    <tr>\n",
       "      <th>max</th>\n",
       "      <td>-0.003521</td>\n",
       "      <td>20.0</td>\n",
       "      <td>0.007315</td>\n",
       "      <td>1874.0</td>\n",
       "      <td>0.007315</td>\n",
       "      <td>45.385310</td>\n",
       "    </tr>\n",
       "  </tbody>\n",
       "</table>\n",
       "</div>"
      ],
      "text/plain": [
       "             d  epoch         g    iter      loss  timestamp\n",
       "mean -0.009626   20.0  0.004826   937.0 -0.007193   0.024205\n",
       "min  -0.013573   20.0 -0.001170     0.0 -0.013573   0.000000\n",
       "max  -0.003521   20.0  0.007315  1874.0  0.007315  45.385310"
      ]
     },
     "metadata": {},
     "output_type": "display_data"
    },
    {
     "data": {
      "application/vnd.jupyter.widget-view+json": {
       "model_id": "3f43792e249d4162a5d0b387207752bf",
       "version_major": 2,
       "version_minor": 0
      },
      "text/plain": [
       "HBox(children=(IntProgress(value=0, max=1875), HTML(value='')))"
      ]
     },
     "metadata": {},
     "output_type": "display_data"
    },
    {
     "name": "stdout",
     "output_type": "stream",
     "text": [
      "\n"
     ]
    },
    {
     "data": {
      "text/html": [
       "<div>\n",
       "<style scoped>\n",
       "    .dataframe tbody tr th:only-of-type {\n",
       "        vertical-align: middle;\n",
       "    }\n",
       "\n",
       "    .dataframe tbody tr th {\n",
       "        vertical-align: top;\n",
       "    }\n",
       "\n",
       "    .dataframe thead th {\n",
       "        text-align: right;\n",
       "    }\n",
       "</style>\n",
       "<table border=\"1\" class=\"dataframe\">\n",
       "  <thead>\n",
       "    <tr style=\"text-align: right;\">\n",
       "      <th></th>\n",
       "      <th>d</th>\n",
       "      <th>epoch</th>\n",
       "      <th>g</th>\n",
       "      <th>iter</th>\n",
       "      <th>loss</th>\n",
       "      <th>timestamp</th>\n",
       "    </tr>\n",
       "  </thead>\n",
       "  <tbody>\n",
       "    <tr>\n",
       "      <th>mean</th>\n",
       "      <td>-0.009657</td>\n",
       "      <td>21.0</td>\n",
       "      <td>0.004890</td>\n",
       "      <td>937.0</td>\n",
       "      <td>-0.007238</td>\n",
       "      <td>0.024120</td>\n",
       "    </tr>\n",
       "    <tr>\n",
       "      <th>min</th>\n",
       "      <td>-0.013776</td>\n",
       "      <td>21.0</td>\n",
       "      <td>-0.002654</td>\n",
       "      <td>0.0</td>\n",
       "      <td>-0.013776</td>\n",
       "      <td>0.000000</td>\n",
       "    </tr>\n",
       "    <tr>\n",
       "      <th>max</th>\n",
       "      <td>-0.002799</td>\n",
       "      <td>21.0</td>\n",
       "      <td>0.007512</td>\n",
       "      <td>1874.0</td>\n",
       "      <td>0.007512</td>\n",
       "      <td>45.225822</td>\n",
       "    </tr>\n",
       "  </tbody>\n",
       "</table>\n",
       "</div>"
      ],
      "text/plain": [
       "             d  epoch         g    iter      loss  timestamp\n",
       "mean -0.009657   21.0  0.004890   937.0 -0.007238   0.024120\n",
       "min  -0.013776   21.0 -0.002654     0.0 -0.013776   0.000000\n",
       "max  -0.002799   21.0  0.007512  1874.0  0.007512  45.225822"
      ]
     },
     "metadata": {},
     "output_type": "display_data"
    },
    {
     "data": {
      "application/vnd.jupyter.widget-view+json": {
       "model_id": "a9fda5d6e0bb441abb6eb9287d535d58",
       "version_major": 2,
       "version_minor": 0
      },
      "text/plain": [
       "HBox(children=(IntProgress(value=0, max=1875), HTML(value='')))"
      ]
     },
     "metadata": {},
     "output_type": "display_data"
    },
    {
     "name": "stdout",
     "output_type": "stream",
     "text": [
      "\n"
     ]
    },
    {
     "data": {
      "text/html": [
       "<div>\n",
       "<style scoped>\n",
       "    .dataframe tbody tr th:only-of-type {\n",
       "        vertical-align: middle;\n",
       "    }\n",
       "\n",
       "    .dataframe tbody tr th {\n",
       "        vertical-align: top;\n",
       "    }\n",
       "\n",
       "    .dataframe thead th {\n",
       "        text-align: right;\n",
       "    }\n",
       "</style>\n",
       "<table border=\"1\" class=\"dataframe\">\n",
       "  <thead>\n",
       "    <tr style=\"text-align: right;\">\n",
       "      <th></th>\n",
       "      <th>d</th>\n",
       "      <th>epoch</th>\n",
       "      <th>g</th>\n",
       "      <th>iter</th>\n",
       "      <th>loss</th>\n",
       "      <th>timestamp</th>\n",
       "    </tr>\n",
       "  </thead>\n",
       "  <tbody>\n",
       "    <tr>\n",
       "      <th>mean</th>\n",
       "      <td>-0.009679</td>\n",
       "      <td>22.0</td>\n",
       "      <td>0.004939</td>\n",
       "      <td>937.0</td>\n",
       "      <td>-0.007231</td>\n",
       "      <td>0.024150</td>\n",
       "    </tr>\n",
       "    <tr>\n",
       "      <th>min</th>\n",
       "      <td>-0.013166</td>\n",
       "      <td>22.0</td>\n",
       "      <td>-0.000124</td>\n",
       "      <td>0.0</td>\n",
       "      <td>-0.013166</td>\n",
       "      <td>0.000000</td>\n",
       "    </tr>\n",
       "    <tr>\n",
       "      <th>max</th>\n",
       "      <td>-0.003028</td>\n",
       "      <td>22.0</td>\n",
       "      <td>0.007249</td>\n",
       "      <td>1874.0</td>\n",
       "      <td>0.007249</td>\n",
       "      <td>45.281748</td>\n",
       "    </tr>\n",
       "  </tbody>\n",
       "</table>\n",
       "</div>"
      ],
      "text/plain": [
       "             d  epoch         g    iter      loss  timestamp\n",
       "mean -0.009679   22.0  0.004939   937.0 -0.007231   0.024150\n",
       "min  -0.013166   22.0 -0.000124     0.0 -0.013166   0.000000\n",
       "max  -0.003028   22.0  0.007249  1874.0  0.007249  45.281748"
      ]
     },
     "metadata": {},
     "output_type": "display_data"
    },
    {
     "data": {
      "application/vnd.jupyter.widget-view+json": {
       "model_id": "4feb39e5aa9743bea8482743e98cb0ce",
       "version_major": 2,
       "version_minor": 0
      },
      "text/plain": [
       "HBox(children=(IntProgress(value=0, max=1875), HTML(value='')))"
      ]
     },
     "metadata": {},
     "output_type": "display_data"
    },
    {
     "name": "stdout",
     "output_type": "stream",
     "text": [
      "\n"
     ]
    },
    {
     "data": {
      "text/html": [
       "<div>\n",
       "<style scoped>\n",
       "    .dataframe tbody tr th:only-of-type {\n",
       "        vertical-align: middle;\n",
       "    }\n",
       "\n",
       "    .dataframe tbody tr th {\n",
       "        vertical-align: top;\n",
       "    }\n",
       "\n",
       "    .dataframe thead th {\n",
       "        text-align: right;\n",
       "    }\n",
       "</style>\n",
       "<table border=\"1\" class=\"dataframe\">\n",
       "  <thead>\n",
       "    <tr style=\"text-align: right;\">\n",
       "      <th></th>\n",
       "      <th>d</th>\n",
       "      <th>epoch</th>\n",
       "      <th>g</th>\n",
       "      <th>iter</th>\n",
       "      <th>loss</th>\n",
       "      <th>timestamp</th>\n",
       "    </tr>\n",
       "  </thead>\n",
       "  <tbody>\n",
       "    <tr>\n",
       "      <th>mean</th>\n",
       "      <td>-0.009637</td>\n",
       "      <td>23.0</td>\n",
       "      <td>0.004827</td>\n",
       "      <td>937.0</td>\n",
       "      <td>-0.007210</td>\n",
       "      <td>0.024146</td>\n",
       "    </tr>\n",
       "    <tr>\n",
       "      <th>min</th>\n",
       "      <td>-0.013706</td>\n",
       "      <td>23.0</td>\n",
       "      <td>-0.000913</td>\n",
       "      <td>0.0</td>\n",
       "      <td>-0.013706</td>\n",
       "      <td>0.000000</td>\n",
       "    </tr>\n",
       "    <tr>\n",
       "      <th>max</th>\n",
       "      <td>-0.003848</td>\n",
       "      <td>23.0</td>\n",
       "      <td>0.007214</td>\n",
       "      <td>1874.0</td>\n",
       "      <td>0.007214</td>\n",
       "      <td>45.274530</td>\n",
       "    </tr>\n",
       "  </tbody>\n",
       "</table>\n",
       "</div>"
      ],
      "text/plain": [
       "             d  epoch         g    iter      loss  timestamp\n",
       "mean -0.009637   23.0  0.004827   937.0 -0.007210   0.024146\n",
       "min  -0.013706   23.0 -0.000913     0.0 -0.013706   0.000000\n",
       "max  -0.003848   23.0  0.007214  1874.0  0.007214  45.274530"
      ]
     },
     "metadata": {},
     "output_type": "display_data"
    },
    {
     "data": {
      "application/vnd.jupyter.widget-view+json": {
       "model_id": "f42115f9ae48427bb097a82ee3cd2182",
       "version_major": 2,
       "version_minor": 0
      },
      "text/plain": [
       "HBox(children=(IntProgress(value=0, max=1875), HTML(value='')))"
      ]
     },
     "metadata": {},
     "output_type": "display_data"
    },
    {
     "name": "stdout",
     "output_type": "stream",
     "text": [
      "\n"
     ]
    },
    {
     "data": {
      "text/html": [
       "<div>\n",
       "<style scoped>\n",
       "    .dataframe tbody tr th:only-of-type {\n",
       "        vertical-align: middle;\n",
       "    }\n",
       "\n",
       "    .dataframe tbody tr th {\n",
       "        vertical-align: top;\n",
       "    }\n",
       "\n",
       "    .dataframe thead th {\n",
       "        text-align: right;\n",
       "    }\n",
       "</style>\n",
       "<table border=\"1\" class=\"dataframe\">\n",
       "  <thead>\n",
       "    <tr style=\"text-align: right;\">\n",
       "      <th></th>\n",
       "      <th>d</th>\n",
       "      <th>epoch</th>\n",
       "      <th>g</th>\n",
       "      <th>iter</th>\n",
       "      <th>loss</th>\n",
       "      <th>timestamp</th>\n",
       "    </tr>\n",
       "  </thead>\n",
       "  <tbody>\n",
       "    <tr>\n",
       "      <th>mean</th>\n",
       "      <td>-0.009850</td>\n",
       "      <td>24.0</td>\n",
       "      <td>0.004846</td>\n",
       "      <td>937.0</td>\n",
       "      <td>-0.007398</td>\n",
       "      <td>0.024146</td>\n",
       "    </tr>\n",
       "    <tr>\n",
       "      <th>min</th>\n",
       "      <td>-0.016243</td>\n",
       "      <td>24.0</td>\n",
       "      <td>-0.000534</td>\n",
       "      <td>0.0</td>\n",
       "      <td>-0.016243</td>\n",
       "      <td>0.000000</td>\n",
       "    </tr>\n",
       "    <tr>\n",
       "      <th>max</th>\n",
       "      <td>-0.003528</td>\n",
       "      <td>24.0</td>\n",
       "      <td>0.008272</td>\n",
       "      <td>1874.0</td>\n",
       "      <td>0.008272</td>\n",
       "      <td>45.273014</td>\n",
       "    </tr>\n",
       "  </tbody>\n",
       "</table>\n",
       "</div>"
      ],
      "text/plain": [
       "             d  epoch         g    iter      loss  timestamp\n",
       "mean -0.009850   24.0  0.004846   937.0 -0.007398   0.024146\n",
       "min  -0.016243   24.0 -0.000534     0.0 -0.016243   0.000000\n",
       "max  -0.003528   24.0  0.008272  1874.0  0.008272  45.273014"
      ]
     },
     "metadata": {},
     "output_type": "display_data"
    },
    {
     "data": {
      "application/vnd.jupyter.widget-view+json": {
       "model_id": "51993a5dc9514cb3805a640fc41ac4da",
       "version_major": 2,
       "version_minor": 0
      },
      "text/plain": [
       "HBox(children=(IntProgress(value=0, max=1875), HTML(value='')))"
      ]
     },
     "metadata": {},
     "output_type": "display_data"
    },
    {
     "name": "stdout",
     "output_type": "stream",
     "text": [
      "\n"
     ]
    },
    {
     "data": {
      "text/html": [
       "<div>\n",
       "<style scoped>\n",
       "    .dataframe tbody tr th:only-of-type {\n",
       "        vertical-align: middle;\n",
       "    }\n",
       "\n",
       "    .dataframe tbody tr th {\n",
       "        vertical-align: top;\n",
       "    }\n",
       "\n",
       "    .dataframe thead th {\n",
       "        text-align: right;\n",
       "    }\n",
       "</style>\n",
       "<table border=\"1\" class=\"dataframe\">\n",
       "  <thead>\n",
       "    <tr style=\"text-align: right;\">\n",
       "      <th></th>\n",
       "      <th>d</th>\n",
       "      <th>epoch</th>\n",
       "      <th>g</th>\n",
       "      <th>iter</th>\n",
       "      <th>loss</th>\n",
       "      <th>timestamp</th>\n",
       "    </tr>\n",
       "  </thead>\n",
       "  <tbody>\n",
       "    <tr>\n",
       "      <th>mean</th>\n",
       "      <td>-0.009557</td>\n",
       "      <td>25.0</td>\n",
       "      <td>0.005570</td>\n",
       "      <td>937.0</td>\n",
       "      <td>-0.007020</td>\n",
       "      <td>0.024225</td>\n",
       "    </tr>\n",
       "    <tr>\n",
       "      <th>min</th>\n",
       "      <td>-0.013723</td>\n",
       "      <td>25.0</td>\n",
       "      <td>-0.002997</td>\n",
       "      <td>0.0</td>\n",
       "      <td>-0.013723</td>\n",
       "      <td>0.000000</td>\n",
       "    </tr>\n",
       "    <tr>\n",
       "      <th>max</th>\n",
       "      <td>0.000778</td>\n",
       "      <td>25.0</td>\n",
       "      <td>0.008993</td>\n",
       "      <td>1874.0</td>\n",
       "      <td>0.008993</td>\n",
       "      <td>45.421048</td>\n",
       "    </tr>\n",
       "  </tbody>\n",
       "</table>\n",
       "</div>"
      ],
      "text/plain": [
       "             d  epoch         g    iter      loss  timestamp\n",
       "mean -0.009557   25.0  0.005570   937.0 -0.007020   0.024225\n",
       "min  -0.013723   25.0 -0.002997     0.0 -0.013723   0.000000\n",
       "max   0.000778   25.0  0.008993  1874.0  0.008993  45.421048"
      ]
     },
     "metadata": {},
     "output_type": "display_data"
    },
    {
     "data": {
      "application/vnd.jupyter.widget-view+json": {
       "model_id": "0b76b3682f7c4874a0516747822c93ee",
       "version_major": 2,
       "version_minor": 0
      },
      "text/plain": [
       "HBox(children=(IntProgress(value=0, max=1875), HTML(value='')))"
      ]
     },
     "metadata": {},
     "output_type": "display_data"
    },
    {
     "name": "stdout",
     "output_type": "stream",
     "text": [
      "\n"
     ]
    },
    {
     "data": {
      "text/html": [
       "<div>\n",
       "<style scoped>\n",
       "    .dataframe tbody tr th:only-of-type {\n",
       "        vertical-align: middle;\n",
       "    }\n",
       "\n",
       "    .dataframe tbody tr th {\n",
       "        vertical-align: top;\n",
       "    }\n",
       "\n",
       "    .dataframe thead th {\n",
       "        text-align: right;\n",
       "    }\n",
       "</style>\n",
       "<table border=\"1\" class=\"dataframe\">\n",
       "  <thead>\n",
       "    <tr style=\"text-align: right;\">\n",
       "      <th></th>\n",
       "      <th>d</th>\n",
       "      <th>epoch</th>\n",
       "      <th>g</th>\n",
       "      <th>iter</th>\n",
       "      <th>loss</th>\n",
       "      <th>timestamp</th>\n",
       "    </tr>\n",
       "  </thead>\n",
       "  <tbody>\n",
       "    <tr>\n",
       "      <th>mean</th>\n",
       "      <td>-0.009186</td>\n",
       "      <td>26.0</td>\n",
       "      <td>0.004562</td>\n",
       "      <td>937.0</td>\n",
       "      <td>-0.006886</td>\n",
       "      <td>0.024172</td>\n",
       "    </tr>\n",
       "    <tr>\n",
       "      <th>min</th>\n",
       "      <td>-0.013464</td>\n",
       "      <td>26.0</td>\n",
       "      <td>-0.001284</td>\n",
       "      <td>0.0</td>\n",
       "      <td>-0.013464</td>\n",
       "      <td>0.000000</td>\n",
       "    </tr>\n",
       "    <tr>\n",
       "      <th>max</th>\n",
       "      <td>-0.002380</td>\n",
       "      <td>26.0</td>\n",
       "      <td>0.007045</td>\n",
       "      <td>1874.0</td>\n",
       "      <td>0.007045</td>\n",
       "      <td>45.322446</td>\n",
       "    </tr>\n",
       "  </tbody>\n",
       "</table>\n",
       "</div>"
      ],
      "text/plain": [
       "             d  epoch         g    iter      loss  timestamp\n",
       "mean -0.009186   26.0  0.004562   937.0 -0.006886   0.024172\n",
       "min  -0.013464   26.0 -0.001284     0.0 -0.013464   0.000000\n",
       "max  -0.002380   26.0  0.007045  1874.0  0.007045  45.322446"
      ]
     },
     "metadata": {},
     "output_type": "display_data"
    },
    {
     "data": {
      "application/vnd.jupyter.widget-view+json": {
       "model_id": "0c599f50aca74143b3d8c47bdde69d54",
       "version_major": 2,
       "version_minor": 0
      },
      "text/plain": [
       "HBox(children=(IntProgress(value=0, max=1875), HTML(value='')))"
      ]
     },
     "metadata": {},
     "output_type": "display_data"
    },
    {
     "name": "stdout",
     "output_type": "stream",
     "text": [
      "\n"
     ]
    },
    {
     "data": {
      "text/html": [
       "<div>\n",
       "<style scoped>\n",
       "    .dataframe tbody tr th:only-of-type {\n",
       "        vertical-align: middle;\n",
       "    }\n",
       "\n",
       "    .dataframe tbody tr th {\n",
       "        vertical-align: top;\n",
       "    }\n",
       "\n",
       "    .dataframe thead th {\n",
       "        text-align: right;\n",
       "    }\n",
       "</style>\n",
       "<table border=\"1\" class=\"dataframe\">\n",
       "  <thead>\n",
       "    <tr style=\"text-align: right;\">\n",
       "      <th></th>\n",
       "      <th>d</th>\n",
       "      <th>epoch</th>\n",
       "      <th>g</th>\n",
       "      <th>iter</th>\n",
       "      <th>loss</th>\n",
       "      <th>timestamp</th>\n",
       "    </tr>\n",
       "  </thead>\n",
       "  <tbody>\n",
       "    <tr>\n",
       "      <th>mean</th>\n",
       "      <td>-0.009377</td>\n",
       "      <td>27.0</td>\n",
       "      <td>0.004752</td>\n",
       "      <td>937.0</td>\n",
       "      <td>-0.007023</td>\n",
       "      <td>0.024178</td>\n",
       "    </tr>\n",
       "    <tr>\n",
       "      <th>min</th>\n",
       "      <td>-0.012930</td>\n",
       "      <td>27.0</td>\n",
       "      <td>-0.000597</td>\n",
       "      <td>0.0</td>\n",
       "      <td>-0.012930</td>\n",
       "      <td>0.000000</td>\n",
       "    </tr>\n",
       "    <tr>\n",
       "      <th>max</th>\n",
       "      <td>-0.003872</td>\n",
       "      <td>27.0</td>\n",
       "      <td>0.007525</td>\n",
       "      <td>1874.0</td>\n",
       "      <td>0.007525</td>\n",
       "      <td>45.333891</td>\n",
       "    </tr>\n",
       "  </tbody>\n",
       "</table>\n",
       "</div>"
      ],
      "text/plain": [
       "             d  epoch         g    iter      loss  timestamp\n",
       "mean -0.009377   27.0  0.004752   937.0 -0.007023   0.024178\n",
       "min  -0.012930   27.0 -0.000597     0.0 -0.012930   0.000000\n",
       "max  -0.003872   27.0  0.007525  1874.0  0.007525  45.333891"
      ]
     },
     "metadata": {},
     "output_type": "display_data"
    },
    {
     "data": {
      "application/vnd.jupyter.widget-view+json": {
       "model_id": "9a62edc38b184986a559653fc90be964",
       "version_major": 2,
       "version_minor": 0
      },
      "text/plain": [
       "HBox(children=(IntProgress(value=0, max=1875), HTML(value='')))"
      ]
     },
     "metadata": {},
     "output_type": "display_data"
    },
    {
     "name": "stdout",
     "output_type": "stream",
     "text": [
      "\n"
     ]
    },
    {
     "data": {
      "text/html": [
       "<div>\n",
       "<style scoped>\n",
       "    .dataframe tbody tr th:only-of-type {\n",
       "        vertical-align: middle;\n",
       "    }\n",
       "\n",
       "    .dataframe tbody tr th {\n",
       "        vertical-align: top;\n",
       "    }\n",
       "\n",
       "    .dataframe thead th {\n",
       "        text-align: right;\n",
       "    }\n",
       "</style>\n",
       "<table border=\"1\" class=\"dataframe\">\n",
       "  <thead>\n",
       "    <tr style=\"text-align: right;\">\n",
       "      <th></th>\n",
       "      <th>d</th>\n",
       "      <th>epoch</th>\n",
       "      <th>g</th>\n",
       "      <th>iter</th>\n",
       "      <th>loss</th>\n",
       "      <th>timestamp</th>\n",
       "    </tr>\n",
       "  </thead>\n",
       "  <tbody>\n",
       "    <tr>\n",
       "      <th>mean</th>\n",
       "      <td>-0.011114</td>\n",
       "      <td>28.0</td>\n",
       "      <td>0.007199</td>\n",
       "      <td>937.0</td>\n",
       "      <td>-0.008064</td>\n",
       "      <td>0.024130</td>\n",
       "    </tr>\n",
       "    <tr>\n",
       "      <th>min</th>\n",
       "      <td>-0.014896</td>\n",
       "      <td>28.0</td>\n",
       "      <td>0.001462</td>\n",
       "      <td>0.0</td>\n",
       "      <td>-0.014896</td>\n",
       "      <td>0.000000</td>\n",
       "    </tr>\n",
       "    <tr>\n",
       "      <th>max</th>\n",
       "      <td>-0.005993</td>\n",
       "      <td>28.0</td>\n",
       "      <td>0.009310</td>\n",
       "      <td>1874.0</td>\n",
       "      <td>0.009310</td>\n",
       "      <td>45.244679</td>\n",
       "    </tr>\n",
       "  </tbody>\n",
       "</table>\n",
       "</div>"
      ],
      "text/plain": [
       "             d  epoch         g    iter      loss  timestamp\n",
       "mean -0.011114   28.0  0.007199   937.0 -0.008064   0.024130\n",
       "min  -0.014896   28.0  0.001462     0.0 -0.014896   0.000000\n",
       "max  -0.005993   28.0  0.009310  1874.0  0.009310  45.244679"
      ]
     },
     "metadata": {},
     "output_type": "display_data"
    },
    {
     "data": {
      "application/vnd.jupyter.widget-view+json": {
       "model_id": "fd6b06007a114330be65b8e1a29fd1d4",
       "version_major": 2,
       "version_minor": 0
      },
      "text/plain": [
       "HBox(children=(IntProgress(value=0, max=1875), HTML(value='')))"
      ]
     },
     "metadata": {},
     "output_type": "display_data"
    },
    {
     "name": "stdout",
     "output_type": "stream",
     "text": [
      "\n"
     ]
    },
    {
     "data": {
      "text/html": [
       "<div>\n",
       "<style scoped>\n",
       "    .dataframe tbody tr th:only-of-type {\n",
       "        vertical-align: middle;\n",
       "    }\n",
       "\n",
       "    .dataframe tbody tr th {\n",
       "        vertical-align: top;\n",
       "    }\n",
       "\n",
       "    .dataframe thead th {\n",
       "        text-align: right;\n",
       "    }\n",
       "</style>\n",
       "<table border=\"1\" class=\"dataframe\">\n",
       "  <thead>\n",
       "    <tr style=\"text-align: right;\">\n",
       "      <th></th>\n",
       "      <th>d</th>\n",
       "      <th>epoch</th>\n",
       "      <th>g</th>\n",
       "      <th>iter</th>\n",
       "      <th>loss</th>\n",
       "      <th>timestamp</th>\n",
       "    </tr>\n",
       "  </thead>\n",
       "  <tbody>\n",
       "    <tr>\n",
       "      <th>mean</th>\n",
       "      <td>-0.010040</td>\n",
       "      <td>29.0</td>\n",
       "      <td>0.008715</td>\n",
       "      <td>937.0</td>\n",
       "      <td>-0.006910</td>\n",
       "      <td>0.024169</td>\n",
       "    </tr>\n",
       "    <tr>\n",
       "      <th>min</th>\n",
       "      <td>-0.012217</td>\n",
       "      <td>29.0</td>\n",
       "      <td>0.001067</td>\n",
       "      <td>0.0</td>\n",
       "      <td>-0.012217</td>\n",
       "      <td>0.000000</td>\n",
       "    </tr>\n",
       "    <tr>\n",
       "      <th>max</th>\n",
       "      <td>-0.000158</td>\n",
       "      <td>29.0</td>\n",
       "      <td>0.009965</td>\n",
       "      <td>1874.0</td>\n",
       "      <td>0.009965</td>\n",
       "      <td>45.317720</td>\n",
       "    </tr>\n",
       "  </tbody>\n",
       "</table>\n",
       "</div>"
      ],
      "text/plain": [
       "             d  epoch         g    iter      loss  timestamp\n",
       "mean -0.010040   29.0  0.008715   937.0 -0.006910   0.024169\n",
       "min  -0.012217   29.0  0.001067     0.0 -0.012217   0.000000\n",
       "max  -0.000158   29.0  0.009965  1874.0  0.009965  45.317720"
      ]
     },
     "metadata": {},
     "output_type": "display_data"
    },
    {
     "data": {
      "application/vnd.jupyter.widget-view+json": {
       "model_id": "0a4a8079ce9a44f38a4bc360bf4eb9c3",
       "version_major": 2,
       "version_minor": 0
      },
      "text/plain": [
       "HBox(children=(IntProgress(value=0, max=1875), HTML(value='')))"
      ]
     },
     "metadata": {},
     "output_type": "display_data"
    },
    {
     "name": "stdout",
     "output_type": "stream",
     "text": [
      "\n"
     ]
    },
    {
     "data": {
      "text/html": [
       "<div>\n",
       "<style scoped>\n",
       "    .dataframe tbody tr th:only-of-type {\n",
       "        vertical-align: middle;\n",
       "    }\n",
       "\n",
       "    .dataframe tbody tr th {\n",
       "        vertical-align: top;\n",
       "    }\n",
       "\n",
       "    .dataframe thead th {\n",
       "        text-align: right;\n",
       "    }\n",
       "</style>\n",
       "<table border=\"1\" class=\"dataframe\">\n",
       "  <thead>\n",
       "    <tr style=\"text-align: right;\">\n",
       "      <th></th>\n",
       "      <th>d</th>\n",
       "      <th>epoch</th>\n",
       "      <th>g</th>\n",
       "      <th>iter</th>\n",
       "      <th>loss</th>\n",
       "      <th>timestamp</th>\n",
       "    </tr>\n",
       "  </thead>\n",
       "  <tbody>\n",
       "    <tr>\n",
       "      <th>mean</th>\n",
       "      <td>-0.005249</td>\n",
       "      <td>30.0</td>\n",
       "      <td>0.003111</td>\n",
       "      <td>937.0</td>\n",
       "      <td>-0.003847</td>\n",
       "      <td>0.024224</td>\n",
       "    </tr>\n",
       "    <tr>\n",
       "      <th>min</th>\n",
       "      <td>-0.009182</td>\n",
       "      <td>30.0</td>\n",
       "      <td>-0.001741</td>\n",
       "      <td>0.0</td>\n",
       "      <td>-0.009182</td>\n",
       "      <td>0.000000</td>\n",
       "    </tr>\n",
       "    <tr>\n",
       "      <th>max</th>\n",
       "      <td>-0.001205</td>\n",
       "      <td>30.0</td>\n",
       "      <td>0.005525</td>\n",
       "      <td>1874.0</td>\n",
       "      <td>0.005525</td>\n",
       "      <td>45.420764</td>\n",
       "    </tr>\n",
       "  </tbody>\n",
       "</table>\n",
       "</div>"
      ],
      "text/plain": [
       "             d  epoch         g    iter      loss  timestamp\n",
       "mean -0.005249   30.0  0.003111   937.0 -0.003847   0.024224\n",
       "min  -0.009182   30.0 -0.001741     0.0 -0.009182   0.000000\n",
       "max  -0.001205   30.0  0.005525  1874.0  0.005525  45.420764"
      ]
     },
     "metadata": {},
     "output_type": "display_data"
    },
    {
     "data": {
      "application/vnd.jupyter.widget-view+json": {
       "model_id": "598d85513d844f19b357b4b8210c2775",
       "version_major": 2,
       "version_minor": 0
      },
      "text/plain": [
       "HBox(children=(IntProgress(value=0, max=1875), HTML(value='')))"
      ]
     },
     "metadata": {},
     "output_type": "display_data"
    },
    {
     "name": "stdout",
     "output_type": "stream",
     "text": [
      "\n"
     ]
    },
    {
     "data": {
      "text/html": [
       "<div>\n",
       "<style scoped>\n",
       "    .dataframe tbody tr th:only-of-type {\n",
       "        vertical-align: middle;\n",
       "    }\n",
       "\n",
       "    .dataframe tbody tr th {\n",
       "        vertical-align: top;\n",
       "    }\n",
       "\n",
       "    .dataframe thead th {\n",
       "        text-align: right;\n",
       "    }\n",
       "</style>\n",
       "<table border=\"1\" class=\"dataframe\">\n",
       "  <thead>\n",
       "    <tr style=\"text-align: right;\">\n",
       "      <th></th>\n",
       "      <th>d</th>\n",
       "      <th>epoch</th>\n",
       "      <th>g</th>\n",
       "      <th>iter</th>\n",
       "      <th>loss</th>\n",
       "      <th>timestamp</th>\n",
       "    </tr>\n",
       "  </thead>\n",
       "  <tbody>\n",
       "    <tr>\n",
       "      <th>mean</th>\n",
       "      <td>-0.007208</td>\n",
       "      <td>31.0</td>\n",
       "      <td>0.003058</td>\n",
       "      <td>937.0</td>\n",
       "      <td>-0.005487</td>\n",
       "      <td>0.024192</td>\n",
       "    </tr>\n",
       "    <tr>\n",
       "      <th>min</th>\n",
       "      <td>-0.010357</td>\n",
       "      <td>31.0</td>\n",
       "      <td>-0.000946</td>\n",
       "      <td>0.0</td>\n",
       "      <td>-0.010357</td>\n",
       "      <td>0.000000</td>\n",
       "    </tr>\n",
       "    <tr>\n",
       "      <th>max</th>\n",
       "      <td>-0.003029</td>\n",
       "      <td>31.0</td>\n",
       "      <td>0.006537</td>\n",
       "      <td>1874.0</td>\n",
       "      <td>0.006537</td>\n",
       "      <td>45.359696</td>\n",
       "    </tr>\n",
       "  </tbody>\n",
       "</table>\n",
       "</div>"
      ],
      "text/plain": [
       "             d  epoch         g    iter      loss  timestamp\n",
       "mean -0.007208   31.0  0.003058   937.0 -0.005487   0.024192\n",
       "min  -0.010357   31.0 -0.000946     0.0 -0.010357   0.000000\n",
       "max  -0.003029   31.0  0.006537  1874.0  0.006537  45.359696"
      ]
     },
     "metadata": {},
     "output_type": "display_data"
    },
    {
     "data": {
      "application/vnd.jupyter.widget-view+json": {
       "model_id": "f609c4f2901047f093cb8670f0074b7c",
       "version_major": 2,
       "version_minor": 0
      },
      "text/plain": [
       "HBox(children=(IntProgress(value=0, max=1875), HTML(value='')))"
      ]
     },
     "metadata": {},
     "output_type": "display_data"
    },
    {
     "name": "stdout",
     "output_type": "stream",
     "text": [
      "\n"
     ]
    },
    {
     "data": {
      "text/html": [
       "<div>\n",
       "<style scoped>\n",
       "    .dataframe tbody tr th:only-of-type {\n",
       "        vertical-align: middle;\n",
       "    }\n",
       "\n",
       "    .dataframe tbody tr th {\n",
       "        vertical-align: top;\n",
       "    }\n",
       "\n",
       "    .dataframe thead th {\n",
       "        text-align: right;\n",
       "    }\n",
       "</style>\n",
       "<table border=\"1\" class=\"dataframe\">\n",
       "  <thead>\n",
       "    <tr style=\"text-align: right;\">\n",
       "      <th></th>\n",
       "      <th>d</th>\n",
       "      <th>epoch</th>\n",
       "      <th>g</th>\n",
       "      <th>iter</th>\n",
       "      <th>loss</th>\n",
       "      <th>timestamp</th>\n",
       "    </tr>\n",
       "  </thead>\n",
       "  <tbody>\n",
       "    <tr>\n",
       "      <th>mean</th>\n",
       "      <td>-0.008045</td>\n",
       "      <td>32.0</td>\n",
       "      <td>0.003874</td>\n",
       "      <td>937.0</td>\n",
       "      <td>-0.006070</td>\n",
       "      <td>0.024225</td>\n",
       "    </tr>\n",
       "    <tr>\n",
       "      <th>min</th>\n",
       "      <td>-0.011915</td>\n",
       "      <td>32.0</td>\n",
       "      <td>-0.001682</td>\n",
       "      <td>0.0</td>\n",
       "      <td>-0.011915</td>\n",
       "      <td>0.000000</td>\n",
       "    </tr>\n",
       "    <tr>\n",
       "      <th>max</th>\n",
       "      <td>-0.000696</td>\n",
       "      <td>32.0</td>\n",
       "      <td>0.006643</td>\n",
       "      <td>1874.0</td>\n",
       "      <td>0.006643</td>\n",
       "      <td>45.421591</td>\n",
       "    </tr>\n",
       "  </tbody>\n",
       "</table>\n",
       "</div>"
      ],
      "text/plain": [
       "             d  epoch         g    iter      loss  timestamp\n",
       "mean -0.008045   32.0  0.003874   937.0 -0.006070   0.024225\n",
       "min  -0.011915   32.0 -0.001682     0.0 -0.011915   0.000000\n",
       "max  -0.000696   32.0  0.006643  1874.0  0.006643  45.421591"
      ]
     },
     "metadata": {},
     "output_type": "display_data"
    },
    {
     "data": {
      "application/vnd.jupyter.widget-view+json": {
       "model_id": "10951b30e3a4420696e7b3c80f7f66d0",
       "version_major": 2,
       "version_minor": 0
      },
      "text/plain": [
       "HBox(children=(IntProgress(value=0, max=1875), HTML(value='')))"
      ]
     },
     "metadata": {},
     "output_type": "display_data"
    },
    {
     "name": "stdout",
     "output_type": "stream",
     "text": [
      "\n"
     ]
    },
    {
     "data": {
      "text/html": [
       "<div>\n",
       "<style scoped>\n",
       "    .dataframe tbody tr th:only-of-type {\n",
       "        vertical-align: middle;\n",
       "    }\n",
       "\n",
       "    .dataframe tbody tr th {\n",
       "        vertical-align: top;\n",
       "    }\n",
       "\n",
       "    .dataframe thead th {\n",
       "        text-align: right;\n",
       "    }\n",
       "</style>\n",
       "<table border=\"1\" class=\"dataframe\">\n",
       "  <thead>\n",
       "    <tr style=\"text-align: right;\">\n",
       "      <th></th>\n",
       "      <th>d</th>\n",
       "      <th>epoch</th>\n",
       "      <th>g</th>\n",
       "      <th>iter</th>\n",
       "      <th>loss</th>\n",
       "      <th>timestamp</th>\n",
       "    </tr>\n",
       "  </thead>\n",
       "  <tbody>\n",
       "    <tr>\n",
       "      <th>mean</th>\n",
       "      <td>-0.008598</td>\n",
       "      <td>33.0</td>\n",
       "      <td>0.004264</td>\n",
       "      <td>937.0</td>\n",
       "      <td>-0.006439</td>\n",
       "      <td>0.024215</td>\n",
       "    </tr>\n",
       "    <tr>\n",
       "      <th>min</th>\n",
       "      <td>-0.012644</td>\n",
       "      <td>33.0</td>\n",
       "      <td>-0.001059</td>\n",
       "      <td>0.0</td>\n",
       "      <td>-0.012644</td>\n",
       "      <td>0.000000</td>\n",
       "    </tr>\n",
       "    <tr>\n",
       "      <th>max</th>\n",
       "      <td>-0.002482</td>\n",
       "      <td>33.0</td>\n",
       "      <td>0.007557</td>\n",
       "      <td>1874.0</td>\n",
       "      <td>0.007557</td>\n",
       "      <td>45.402505</td>\n",
       "    </tr>\n",
       "  </tbody>\n",
       "</table>\n",
       "</div>"
      ],
      "text/plain": [
       "             d  epoch         g    iter      loss  timestamp\n",
       "mean -0.008598   33.0  0.004264   937.0 -0.006439   0.024215\n",
       "min  -0.012644   33.0 -0.001059     0.0 -0.012644   0.000000\n",
       "max  -0.002482   33.0  0.007557  1874.0  0.007557  45.402505"
      ]
     },
     "metadata": {},
     "output_type": "display_data"
    },
    {
     "data": {
      "application/vnd.jupyter.widget-view+json": {
       "model_id": "d2c27ca409bd4c82bdbf329529545550",
       "version_major": 2,
       "version_minor": 0
      },
      "text/plain": [
       "HBox(children=(IntProgress(value=0, max=1875), HTML(value='')))"
      ]
     },
     "metadata": {},
     "output_type": "display_data"
    },
    {
     "name": "stdout",
     "output_type": "stream",
     "text": [
      "\n"
     ]
    },
    {
     "data": {
      "text/html": [
       "<div>\n",
       "<style scoped>\n",
       "    .dataframe tbody tr th:only-of-type {\n",
       "        vertical-align: middle;\n",
       "    }\n",
       "\n",
       "    .dataframe tbody tr th {\n",
       "        vertical-align: top;\n",
       "    }\n",
       "\n",
       "    .dataframe thead th {\n",
       "        text-align: right;\n",
       "    }\n",
       "</style>\n",
       "<table border=\"1\" class=\"dataframe\">\n",
       "  <thead>\n",
       "    <tr style=\"text-align: right;\">\n",
       "      <th></th>\n",
       "      <th>d</th>\n",
       "      <th>epoch</th>\n",
       "      <th>g</th>\n",
       "      <th>iter</th>\n",
       "      <th>loss</th>\n",
       "      <th>timestamp</th>\n",
       "    </tr>\n",
       "  </thead>\n",
       "  <tbody>\n",
       "    <tr>\n",
       "      <th>mean</th>\n",
       "      <td>-0.008931</td>\n",
       "      <td>34.0</td>\n",
       "      <td>0.004648</td>\n",
       "      <td>937.0</td>\n",
       "      <td>-0.006682</td>\n",
       "      <td>0.024176</td>\n",
       "    </tr>\n",
       "    <tr>\n",
       "      <th>min</th>\n",
       "      <td>-0.013248</td>\n",
       "      <td>34.0</td>\n",
       "      <td>-0.002777</td>\n",
       "      <td>0.0</td>\n",
       "      <td>-0.013248</td>\n",
       "      <td>0.000000</td>\n",
       "    </tr>\n",
       "    <tr>\n",
       "      <th>max</th>\n",
       "      <td>-0.001781</td>\n",
       "      <td>34.0</td>\n",
       "      <td>0.007406</td>\n",
       "      <td>1874.0</td>\n",
       "      <td>0.007406</td>\n",
       "      <td>45.329419</td>\n",
       "    </tr>\n",
       "  </tbody>\n",
       "</table>\n",
       "</div>"
      ],
      "text/plain": [
       "             d  epoch         g    iter      loss  timestamp\n",
       "mean -0.008931   34.0  0.004648   937.0 -0.006682   0.024176\n",
       "min  -0.013248   34.0 -0.002777     0.0 -0.013248   0.000000\n",
       "max  -0.001781   34.0  0.007406  1874.0  0.007406  45.329419"
      ]
     },
     "metadata": {},
     "output_type": "display_data"
    },
    {
     "data": {
      "application/vnd.jupyter.widget-view+json": {
       "model_id": "5b7f6cdcfae74f0182558cfeb8649a21",
       "version_major": 2,
       "version_minor": 0
      },
      "text/plain": [
       "HBox(children=(IntProgress(value=0, max=1875), HTML(value='')))"
      ]
     },
     "metadata": {},
     "output_type": "display_data"
    },
    {
     "name": "stdout",
     "output_type": "stream",
     "text": [
      "\n"
     ]
    },
    {
     "data": {
      "text/html": [
       "<div>\n",
       "<style scoped>\n",
       "    .dataframe tbody tr th:only-of-type {\n",
       "        vertical-align: middle;\n",
       "    }\n",
       "\n",
       "    .dataframe tbody tr th {\n",
       "        vertical-align: top;\n",
       "    }\n",
       "\n",
       "    .dataframe thead th {\n",
       "        text-align: right;\n",
       "    }\n",
       "</style>\n",
       "<table border=\"1\" class=\"dataframe\">\n",
       "  <thead>\n",
       "    <tr style=\"text-align: right;\">\n",
       "      <th></th>\n",
       "      <th>d</th>\n",
       "      <th>epoch</th>\n",
       "      <th>g</th>\n",
       "      <th>iter</th>\n",
       "      <th>loss</th>\n",
       "      <th>timestamp</th>\n",
       "    </tr>\n",
       "  </thead>\n",
       "  <tbody>\n",
       "    <tr>\n",
       "      <th>mean</th>\n",
       "      <td>-0.009160</td>\n",
       "      <td>35.0</td>\n",
       "      <td>0.004655</td>\n",
       "      <td>937.0</td>\n",
       "      <td>-0.006844</td>\n",
       "      <td>0.024204</td>\n",
       "    </tr>\n",
       "    <tr>\n",
       "      <th>min</th>\n",
       "      <td>-0.013894</td>\n",
       "      <td>35.0</td>\n",
       "      <td>0.000167</td>\n",
       "      <td>0.0</td>\n",
       "      <td>-0.013894</td>\n",
       "      <td>0.000000</td>\n",
       "    </tr>\n",
       "    <tr>\n",
       "      <th>max</th>\n",
       "      <td>-0.001564</td>\n",
       "      <td>35.0</td>\n",
       "      <td>0.007608</td>\n",
       "      <td>1874.0</td>\n",
       "      <td>0.007608</td>\n",
       "      <td>45.382704</td>\n",
       "    </tr>\n",
       "  </tbody>\n",
       "</table>\n",
       "</div>"
      ],
      "text/plain": [
       "             d  epoch         g    iter      loss  timestamp\n",
       "mean -0.009160   35.0  0.004655   937.0 -0.006844   0.024204\n",
       "min  -0.013894   35.0  0.000167     0.0 -0.013894   0.000000\n",
       "max  -0.001564   35.0  0.007608  1874.0  0.007608  45.382704"
      ]
     },
     "metadata": {},
     "output_type": "display_data"
    },
    {
     "data": {
      "application/vnd.jupyter.widget-view+json": {
       "model_id": "7e2ff89f6cdc4b6f9b36bc5d57724b94",
       "version_major": 2,
       "version_minor": 0
      },
      "text/plain": [
       "HBox(children=(IntProgress(value=0, max=1875), HTML(value='')))"
      ]
     },
     "metadata": {},
     "output_type": "display_data"
    },
    {
     "name": "stdout",
     "output_type": "stream",
     "text": [
      "\n"
     ]
    },
    {
     "data": {
      "text/html": [
       "<div>\n",
       "<style scoped>\n",
       "    .dataframe tbody tr th:only-of-type {\n",
       "        vertical-align: middle;\n",
       "    }\n",
       "\n",
       "    .dataframe tbody tr th {\n",
       "        vertical-align: top;\n",
       "    }\n",
       "\n",
       "    .dataframe thead th {\n",
       "        text-align: right;\n",
       "    }\n",
       "</style>\n",
       "<table border=\"1\" class=\"dataframe\">\n",
       "  <thead>\n",
       "    <tr style=\"text-align: right;\">\n",
       "      <th></th>\n",
       "      <th>d</th>\n",
       "      <th>epoch</th>\n",
       "      <th>g</th>\n",
       "      <th>iter</th>\n",
       "      <th>loss</th>\n",
       "      <th>timestamp</th>\n",
       "    </tr>\n",
       "  </thead>\n",
       "  <tbody>\n",
       "    <tr>\n",
       "      <th>mean</th>\n",
       "      <td>-0.009356</td>\n",
       "      <td>36.0</td>\n",
       "      <td>0.004954</td>\n",
       "      <td>937.0</td>\n",
       "      <td>-0.006965</td>\n",
       "      <td>0.024143</td>\n",
       "    </tr>\n",
       "    <tr>\n",
       "      <th>min</th>\n",
       "      <td>-0.013636</td>\n",
       "      <td>36.0</td>\n",
       "      <td>0.000394</td>\n",
       "      <td>0.0</td>\n",
       "      <td>-0.013636</td>\n",
       "      <td>0.000000</td>\n",
       "    </tr>\n",
       "    <tr>\n",
       "      <th>max</th>\n",
       "      <td>-0.003357</td>\n",
       "      <td>36.0</td>\n",
       "      <td>0.007732</td>\n",
       "      <td>1874.0</td>\n",
       "      <td>0.007732</td>\n",
       "      <td>45.267203</td>\n",
       "    </tr>\n",
       "  </tbody>\n",
       "</table>\n",
       "</div>"
      ],
      "text/plain": [
       "             d  epoch         g    iter      loss  timestamp\n",
       "mean -0.009356   36.0  0.004954   937.0 -0.006965   0.024143\n",
       "min  -0.013636   36.0  0.000394     0.0 -0.013636   0.000000\n",
       "max  -0.003357   36.0  0.007732  1874.0  0.007732  45.267203"
      ]
     },
     "metadata": {},
     "output_type": "display_data"
    },
    {
     "data": {
      "application/vnd.jupyter.widget-view+json": {
       "model_id": "9a756ee8e15940edaab6a464f40a36c3",
       "version_major": 2,
       "version_minor": 0
      },
      "text/plain": [
       "HBox(children=(IntProgress(value=0, max=1875), HTML(value='')))"
      ]
     },
     "metadata": {},
     "output_type": "display_data"
    },
    {
     "name": "stdout",
     "output_type": "stream",
     "text": [
      "\n"
     ]
    },
    {
     "data": {
      "text/html": [
       "<div>\n",
       "<style scoped>\n",
       "    .dataframe tbody tr th:only-of-type {\n",
       "        vertical-align: middle;\n",
       "    }\n",
       "\n",
       "    .dataframe tbody tr th {\n",
       "        vertical-align: top;\n",
       "    }\n",
       "\n",
       "    .dataframe thead th {\n",
       "        text-align: right;\n",
       "    }\n",
       "</style>\n",
       "<table border=\"1\" class=\"dataframe\">\n",
       "  <thead>\n",
       "    <tr style=\"text-align: right;\">\n",
       "      <th></th>\n",
       "      <th>d</th>\n",
       "      <th>epoch</th>\n",
       "      <th>g</th>\n",
       "      <th>iter</th>\n",
       "      <th>loss</th>\n",
       "      <th>timestamp</th>\n",
       "    </tr>\n",
       "  </thead>\n",
       "  <tbody>\n",
       "    <tr>\n",
       "      <th>mean</th>\n",
       "      <td>-0.009306</td>\n",
       "      <td>37.0</td>\n",
       "      <td>0.004870</td>\n",
       "      <td>937.0</td>\n",
       "      <td>-0.006964</td>\n",
       "      <td>0.024208</td>\n",
       "    </tr>\n",
       "    <tr>\n",
       "      <th>min</th>\n",
       "      <td>-0.013056</td>\n",
       "      <td>37.0</td>\n",
       "      <td>0.000488</td>\n",
       "      <td>0.0</td>\n",
       "      <td>-0.013056</td>\n",
       "      <td>0.000000</td>\n",
       "    </tr>\n",
       "    <tr>\n",
       "      <th>max</th>\n",
       "      <td>-0.002106</td>\n",
       "      <td>37.0</td>\n",
       "      <td>0.007844</td>\n",
       "      <td>1874.0</td>\n",
       "      <td>0.007844</td>\n",
       "      <td>45.389742</td>\n",
       "    </tr>\n",
       "  </tbody>\n",
       "</table>\n",
       "</div>"
      ],
      "text/plain": [
       "             d  epoch         g    iter      loss  timestamp\n",
       "mean -0.009306   37.0  0.004870   937.0 -0.006964   0.024208\n",
       "min  -0.013056   37.0  0.000488     0.0 -0.013056   0.000000\n",
       "max  -0.002106   37.0  0.007844  1874.0  0.007844  45.389742"
      ]
     },
     "metadata": {},
     "output_type": "display_data"
    },
    {
     "data": {
      "application/vnd.jupyter.widget-view+json": {
       "model_id": "dc77e7f6180c4bb2ad380b46d1cda8b0",
       "version_major": 2,
       "version_minor": 0
      },
      "text/plain": [
       "HBox(children=(IntProgress(value=0, max=1875), HTML(value='')))"
      ]
     },
     "metadata": {},
     "output_type": "display_data"
    },
    {
     "name": "stdout",
     "output_type": "stream",
     "text": [
      "\n"
     ]
    },
    {
     "data": {
      "text/html": [
       "<div>\n",
       "<style scoped>\n",
       "    .dataframe tbody tr th:only-of-type {\n",
       "        vertical-align: middle;\n",
       "    }\n",
       "\n",
       "    .dataframe tbody tr th {\n",
       "        vertical-align: top;\n",
       "    }\n",
       "\n",
       "    .dataframe thead th {\n",
       "        text-align: right;\n",
       "    }\n",
       "</style>\n",
       "<table border=\"1\" class=\"dataframe\">\n",
       "  <thead>\n",
       "    <tr style=\"text-align: right;\">\n",
       "      <th></th>\n",
       "      <th>d</th>\n",
       "      <th>epoch</th>\n",
       "      <th>g</th>\n",
       "      <th>iter</th>\n",
       "      <th>loss</th>\n",
       "      <th>timestamp</th>\n",
       "    </tr>\n",
       "  </thead>\n",
       "  <tbody>\n",
       "    <tr>\n",
       "      <th>mean</th>\n",
       "      <td>-0.009423</td>\n",
       "      <td>38.0</td>\n",
       "      <td>0.004981</td>\n",
       "      <td>937.0</td>\n",
       "      <td>-0.007005</td>\n",
       "      <td>0.024158</td>\n",
       "    </tr>\n",
       "    <tr>\n",
       "      <th>min</th>\n",
       "      <td>-0.013375</td>\n",
       "      <td>38.0</td>\n",
       "      <td>-0.000273</td>\n",
       "      <td>0.0</td>\n",
       "      <td>-0.013375</td>\n",
       "      <td>0.000000</td>\n",
       "    </tr>\n",
       "    <tr>\n",
       "      <th>max</th>\n",
       "      <td>-0.002324</td>\n",
       "      <td>38.0</td>\n",
       "      <td>0.007931</td>\n",
       "      <td>1874.0</td>\n",
       "      <td>0.007931</td>\n",
       "      <td>45.295903</td>\n",
       "    </tr>\n",
       "  </tbody>\n",
       "</table>\n",
       "</div>"
      ],
      "text/plain": [
       "             d  epoch         g    iter      loss  timestamp\n",
       "mean -0.009423   38.0  0.004981   937.0 -0.007005   0.024158\n",
       "min  -0.013375   38.0 -0.000273     0.0 -0.013375   0.000000\n",
       "max  -0.002324   38.0  0.007931  1874.0  0.007931  45.295903"
      ]
     },
     "metadata": {},
     "output_type": "display_data"
    },
    {
     "data": {
      "application/vnd.jupyter.widget-view+json": {
       "model_id": "dd6f64b52e644d81b4171af1a17d8442",
       "version_major": 2,
       "version_minor": 0
      },
      "text/plain": [
       "HBox(children=(IntProgress(value=0, max=1875), HTML(value='')))"
      ]
     },
     "metadata": {},
     "output_type": "display_data"
    },
    {
     "name": "stdout",
     "output_type": "stream",
     "text": [
      "\n"
     ]
    },
    {
     "data": {
      "text/html": [
       "<div>\n",
       "<style scoped>\n",
       "    .dataframe tbody tr th:only-of-type {\n",
       "        vertical-align: middle;\n",
       "    }\n",
       "\n",
       "    .dataframe tbody tr th {\n",
       "        vertical-align: top;\n",
       "    }\n",
       "\n",
       "    .dataframe thead th {\n",
       "        text-align: right;\n",
       "    }\n",
       "</style>\n",
       "<table border=\"1\" class=\"dataframe\">\n",
       "  <thead>\n",
       "    <tr style=\"text-align: right;\">\n",
       "      <th></th>\n",
       "      <th>d</th>\n",
       "      <th>epoch</th>\n",
       "      <th>g</th>\n",
       "      <th>iter</th>\n",
       "      <th>loss</th>\n",
       "      <th>timestamp</th>\n",
       "    </tr>\n",
       "  </thead>\n",
       "  <tbody>\n",
       "    <tr>\n",
       "      <th>mean</th>\n",
       "      <td>-0.010171</td>\n",
       "      <td>39.0</td>\n",
       "      <td>0.006991</td>\n",
       "      <td>937.0</td>\n",
       "      <td>-0.007288</td>\n",
       "      <td>0.024129</td>\n",
       "    </tr>\n",
       "    <tr>\n",
       "      <th>min</th>\n",
       "      <td>-0.014651</td>\n",
       "      <td>39.0</td>\n",
       "      <td>-0.001848</td>\n",
       "      <td>0.0</td>\n",
       "      <td>-0.014651</td>\n",
       "      <td>0.000000</td>\n",
       "    </tr>\n",
       "    <tr>\n",
       "      <th>max</th>\n",
       "      <td>-0.000256</td>\n",
       "      <td>39.0</td>\n",
       "      <td>0.010479</td>\n",
       "      <td>1874.0</td>\n",
       "      <td>0.010479</td>\n",
       "      <td>45.241602</td>\n",
       "    </tr>\n",
       "  </tbody>\n",
       "</table>\n",
       "</div>"
      ],
      "text/plain": [
       "             d  epoch         g    iter      loss  timestamp\n",
       "mean -0.010171   39.0  0.006991   937.0 -0.007288   0.024129\n",
       "min  -0.014651   39.0 -0.001848     0.0 -0.014651   0.000000\n",
       "max  -0.000256   39.0  0.010479  1874.0  0.010479  45.241602"
      ]
     },
     "metadata": {},
     "output_type": "display_data"
    },
    {
     "data": {
      "application/vnd.jupyter.widget-view+json": {
       "model_id": "4bda258fb4024e57878a2db4caea488e",
       "version_major": 2,
       "version_minor": 0
      },
      "text/plain": [
       "HBox(children=(IntProgress(value=0, max=1875), HTML(value='')))"
      ]
     },
     "metadata": {},
     "output_type": "display_data"
    },
    {
     "name": "stdout",
     "output_type": "stream",
     "text": [
      "\n"
     ]
    },
    {
     "data": {
      "text/html": [
       "<div>\n",
       "<style scoped>\n",
       "    .dataframe tbody tr th:only-of-type {\n",
       "        vertical-align: middle;\n",
       "    }\n",
       "\n",
       "    .dataframe tbody tr th {\n",
       "        vertical-align: top;\n",
       "    }\n",
       "\n",
       "    .dataframe thead th {\n",
       "        text-align: right;\n",
       "    }\n",
       "</style>\n",
       "<table border=\"1\" class=\"dataframe\">\n",
       "  <thead>\n",
       "    <tr style=\"text-align: right;\">\n",
       "      <th></th>\n",
       "      <th>d</th>\n",
       "      <th>epoch</th>\n",
       "      <th>g</th>\n",
       "      <th>iter</th>\n",
       "      <th>loss</th>\n",
       "      <th>timestamp</th>\n",
       "    </tr>\n",
       "  </thead>\n",
       "  <tbody>\n",
       "    <tr>\n",
       "      <th>mean</th>\n",
       "      <td>-0.008851</td>\n",
       "      <td>40.0</td>\n",
       "      <td>0.004476</td>\n",
       "      <td>937.0</td>\n",
       "      <td>-0.006614</td>\n",
       "      <td>0.024187</td>\n",
       "    </tr>\n",
       "    <tr>\n",
       "      <th>min</th>\n",
       "      <td>-0.012881</td>\n",
       "      <td>40.0</td>\n",
       "      <td>-0.000712</td>\n",
       "      <td>0.0</td>\n",
       "      <td>-0.012881</td>\n",
       "      <td>0.000000</td>\n",
       "    </tr>\n",
       "    <tr>\n",
       "      <th>max</th>\n",
       "      <td>-0.001245</td>\n",
       "      <td>40.0</td>\n",
       "      <td>0.007533</td>\n",
       "      <td>1874.0</td>\n",
       "      <td>0.007533</td>\n",
       "      <td>45.351522</td>\n",
       "    </tr>\n",
       "  </tbody>\n",
       "</table>\n",
       "</div>"
      ],
      "text/plain": [
       "             d  epoch         g    iter      loss  timestamp\n",
       "mean -0.008851   40.0  0.004476   937.0 -0.006614   0.024187\n",
       "min  -0.012881   40.0 -0.000712     0.0 -0.012881   0.000000\n",
       "max  -0.001245   40.0  0.007533  1874.0  0.007533  45.351522"
      ]
     },
     "metadata": {},
     "output_type": "display_data"
    },
    {
     "data": {
      "application/vnd.jupyter.widget-view+json": {
       "model_id": "a74fe5af375248eb89f3e0b1055af7cf",
       "version_major": 2,
       "version_minor": 0
      },
      "text/plain": [
       "HBox(children=(IntProgress(value=0, max=1875), HTML(value='')))"
      ]
     },
     "metadata": {},
     "output_type": "display_data"
    },
    {
     "name": "stdout",
     "output_type": "stream",
     "text": [
      "\n"
     ]
    },
    {
     "data": {
      "text/html": [
       "<div>\n",
       "<style scoped>\n",
       "    .dataframe tbody tr th:only-of-type {\n",
       "        vertical-align: middle;\n",
       "    }\n",
       "\n",
       "    .dataframe tbody tr th {\n",
       "        vertical-align: top;\n",
       "    }\n",
       "\n",
       "    .dataframe thead th {\n",
       "        text-align: right;\n",
       "    }\n",
       "</style>\n",
       "<table border=\"1\" class=\"dataframe\">\n",
       "  <thead>\n",
       "    <tr style=\"text-align: right;\">\n",
       "      <th></th>\n",
       "      <th>d</th>\n",
       "      <th>epoch</th>\n",
       "      <th>g</th>\n",
       "      <th>iter</th>\n",
       "      <th>loss</th>\n",
       "      <th>timestamp</th>\n",
       "    </tr>\n",
       "  </thead>\n",
       "  <tbody>\n",
       "    <tr>\n",
       "      <th>mean</th>\n",
       "      <td>-0.009296</td>\n",
       "      <td>41.0</td>\n",
       "      <td>0.004757</td>\n",
       "      <td>937.0</td>\n",
       "      <td>-0.006955</td>\n",
       "      <td>0.024185</td>\n",
       "    </tr>\n",
       "    <tr>\n",
       "      <th>min</th>\n",
       "      <td>-0.013802</td>\n",
       "      <td>41.0</td>\n",
       "      <td>-0.001808</td>\n",
       "      <td>0.0</td>\n",
       "      <td>-0.013802</td>\n",
       "      <td>0.000000</td>\n",
       "    </tr>\n",
       "    <tr>\n",
       "      <th>max</th>\n",
       "      <td>-0.002984</td>\n",
       "      <td>41.0</td>\n",
       "      <td>0.007733</td>\n",
       "      <td>1874.0</td>\n",
       "      <td>0.007733</td>\n",
       "      <td>45.346832</td>\n",
       "    </tr>\n",
       "  </tbody>\n",
       "</table>\n",
       "</div>"
      ],
      "text/plain": [
       "             d  epoch         g    iter      loss  timestamp\n",
       "mean -0.009296   41.0  0.004757   937.0 -0.006955   0.024185\n",
       "min  -0.013802   41.0 -0.001808     0.0 -0.013802   0.000000\n",
       "max  -0.002984   41.0  0.007733  1874.0  0.007733  45.346832"
      ]
     },
     "metadata": {},
     "output_type": "display_data"
    },
    {
     "data": {
      "application/vnd.jupyter.widget-view+json": {
       "model_id": "1fa4d926880a4fa1bbe3ad726ad2bb89",
       "version_major": 2,
       "version_minor": 0
      },
      "text/plain": [
       "HBox(children=(IntProgress(value=0, max=1875), HTML(value='')))"
      ]
     },
     "metadata": {},
     "output_type": "display_data"
    },
    {
     "name": "stdout",
     "output_type": "stream",
     "text": [
      "\n"
     ]
    },
    {
     "data": {
      "text/html": [
       "<div>\n",
       "<style scoped>\n",
       "    .dataframe tbody tr th:only-of-type {\n",
       "        vertical-align: middle;\n",
       "    }\n",
       "\n",
       "    .dataframe tbody tr th {\n",
       "        vertical-align: top;\n",
       "    }\n",
       "\n",
       "    .dataframe thead th {\n",
       "        text-align: right;\n",
       "    }\n",
       "</style>\n",
       "<table border=\"1\" class=\"dataframe\">\n",
       "  <thead>\n",
       "    <tr style=\"text-align: right;\">\n",
       "      <th></th>\n",
       "      <th>d</th>\n",
       "      <th>epoch</th>\n",
       "      <th>g</th>\n",
       "      <th>iter</th>\n",
       "      <th>loss</th>\n",
       "      <th>timestamp</th>\n",
       "    </tr>\n",
       "  </thead>\n",
       "  <tbody>\n",
       "    <tr>\n",
       "      <th>mean</th>\n",
       "      <td>-0.009297</td>\n",
       "      <td>42.0</td>\n",
       "      <td>0.004929</td>\n",
       "      <td>937.0</td>\n",
       "      <td>-0.006921</td>\n",
       "      <td>0.024191</td>\n",
       "    </tr>\n",
       "    <tr>\n",
       "      <th>min</th>\n",
       "      <td>-0.013562</td>\n",
       "      <td>42.0</td>\n",
       "      <td>-0.000689</td>\n",
       "      <td>0.0</td>\n",
       "      <td>-0.013562</td>\n",
       "      <td>0.000000</td>\n",
       "    </tr>\n",
       "    <tr>\n",
       "      <th>max</th>\n",
       "      <td>-0.002058</td>\n",
       "      <td>42.0</td>\n",
       "      <td>0.008071</td>\n",
       "      <td>1874.0</td>\n",
       "      <td>0.008071</td>\n",
       "      <td>45.358540</td>\n",
       "    </tr>\n",
       "  </tbody>\n",
       "</table>\n",
       "</div>"
      ],
      "text/plain": [
       "             d  epoch         g    iter      loss  timestamp\n",
       "mean -0.009297   42.0  0.004929   937.0 -0.006921   0.024191\n",
       "min  -0.013562   42.0 -0.000689     0.0 -0.013562   0.000000\n",
       "max  -0.002058   42.0  0.008071  1874.0  0.008071  45.358540"
      ]
     },
     "metadata": {},
     "output_type": "display_data"
    },
    {
     "data": {
      "application/vnd.jupyter.widget-view+json": {
       "model_id": "df06a457682e414f98b24716149dc2d4",
       "version_major": 2,
       "version_minor": 0
      },
      "text/plain": [
       "HBox(children=(IntProgress(value=0, max=1875), HTML(value='')))"
      ]
     },
     "metadata": {},
     "output_type": "display_data"
    },
    {
     "name": "stdout",
     "output_type": "stream",
     "text": [
      "\n"
     ]
    },
    {
     "data": {
      "text/html": [
       "<div>\n",
       "<style scoped>\n",
       "    .dataframe tbody tr th:only-of-type {\n",
       "        vertical-align: middle;\n",
       "    }\n",
       "\n",
       "    .dataframe tbody tr th {\n",
       "        vertical-align: top;\n",
       "    }\n",
       "\n",
       "    .dataframe thead th {\n",
       "        text-align: right;\n",
       "    }\n",
       "</style>\n",
       "<table border=\"1\" class=\"dataframe\">\n",
       "  <thead>\n",
       "    <tr style=\"text-align: right;\">\n",
       "      <th></th>\n",
       "      <th>d</th>\n",
       "      <th>epoch</th>\n",
       "      <th>g</th>\n",
       "      <th>iter</th>\n",
       "      <th>loss</th>\n",
       "      <th>timestamp</th>\n",
       "    </tr>\n",
       "  </thead>\n",
       "  <tbody>\n",
       "    <tr>\n",
       "      <th>mean</th>\n",
       "      <td>-0.009411</td>\n",
       "      <td>43.0</td>\n",
       "      <td>0.004751</td>\n",
       "      <td>937.0</td>\n",
       "      <td>-0.007039</td>\n",
       "      <td>0.024169</td>\n",
       "    </tr>\n",
       "    <tr>\n",
       "      <th>min</th>\n",
       "      <td>-0.014282</td>\n",
       "      <td>43.0</td>\n",
       "      <td>-0.000433</td>\n",
       "      <td>0.0</td>\n",
       "      <td>-0.014282</td>\n",
       "      <td>0.000000</td>\n",
       "    </tr>\n",
       "    <tr>\n",
       "      <th>max</th>\n",
       "      <td>-0.003894</td>\n",
       "      <td>43.0</td>\n",
       "      <td>0.007681</td>\n",
       "      <td>1874.0</td>\n",
       "      <td>0.007681</td>\n",
       "      <td>45.316964</td>\n",
       "    </tr>\n",
       "  </tbody>\n",
       "</table>\n",
       "</div>"
      ],
      "text/plain": [
       "             d  epoch         g    iter      loss  timestamp\n",
       "mean -0.009411   43.0  0.004751   937.0 -0.007039   0.024169\n",
       "min  -0.014282   43.0 -0.000433     0.0 -0.014282   0.000000\n",
       "max  -0.003894   43.0  0.007681  1874.0  0.007681  45.316964"
      ]
     },
     "metadata": {},
     "output_type": "display_data"
    },
    {
     "data": {
      "application/vnd.jupyter.widget-view+json": {
       "model_id": "a18df00ca4b04a3abdf3a9fe446c46f8",
       "version_major": 2,
       "version_minor": 0
      },
      "text/plain": [
       "HBox(children=(IntProgress(value=0, max=1875), HTML(value='')))"
      ]
     },
     "metadata": {},
     "output_type": "display_data"
    },
    {
     "name": "stdout",
     "output_type": "stream",
     "text": [
      "\n"
     ]
    },
    {
     "data": {
      "text/html": [
       "<div>\n",
       "<style scoped>\n",
       "    .dataframe tbody tr th:only-of-type {\n",
       "        vertical-align: middle;\n",
       "    }\n",
       "\n",
       "    .dataframe tbody tr th {\n",
       "        vertical-align: top;\n",
       "    }\n",
       "\n",
       "    .dataframe thead th {\n",
       "        text-align: right;\n",
       "    }\n",
       "</style>\n",
       "<table border=\"1\" class=\"dataframe\">\n",
       "  <thead>\n",
       "    <tr style=\"text-align: right;\">\n",
       "      <th></th>\n",
       "      <th>d</th>\n",
       "      <th>epoch</th>\n",
       "      <th>g</th>\n",
       "      <th>iter</th>\n",
       "      <th>loss</th>\n",
       "      <th>timestamp</th>\n",
       "    </tr>\n",
       "  </thead>\n",
       "  <tbody>\n",
       "    <tr>\n",
       "      <th>mean</th>\n",
       "      <td>-0.009423</td>\n",
       "      <td>44.0</td>\n",
       "      <td>0.005024</td>\n",
       "      <td>937.0</td>\n",
       "      <td>-0.007015</td>\n",
       "      <td>0.024155</td>\n",
       "    </tr>\n",
       "    <tr>\n",
       "      <th>min</th>\n",
       "      <td>-0.014041</td>\n",
       "      <td>44.0</td>\n",
       "      <td>0.000393</td>\n",
       "      <td>0.0</td>\n",
       "      <td>-0.014041</td>\n",
       "      <td>0.000000</td>\n",
       "    </tr>\n",
       "    <tr>\n",
       "      <th>max</th>\n",
       "      <td>-0.001433</td>\n",
       "      <td>44.0</td>\n",
       "      <td>0.007706</td>\n",
       "      <td>1874.0</td>\n",
       "      <td>0.007706</td>\n",
       "      <td>45.291364</td>\n",
       "    </tr>\n",
       "  </tbody>\n",
       "</table>\n",
       "</div>"
      ],
      "text/plain": [
       "             d  epoch         g    iter      loss  timestamp\n",
       "mean -0.009423   44.0  0.005024   937.0 -0.007015   0.024155\n",
       "min  -0.014041   44.0  0.000393     0.0 -0.014041   0.000000\n",
       "max  -0.001433   44.0  0.007706  1874.0  0.007706  45.291364"
      ]
     },
     "metadata": {},
     "output_type": "display_data"
    },
    {
     "data": {
      "application/vnd.jupyter.widget-view+json": {
       "model_id": "e487183abc574b03a96724621f4f9eba",
       "version_major": 2,
       "version_minor": 0
      },
      "text/plain": [
       "HBox(children=(IntProgress(value=0, max=1875), HTML(value='')))"
      ]
     },
     "metadata": {},
     "output_type": "display_data"
    },
    {
     "name": "stdout",
     "output_type": "stream",
     "text": [
      "\n"
     ]
    },
    {
     "data": {
      "text/html": [
       "<div>\n",
       "<style scoped>\n",
       "    .dataframe tbody tr th:only-of-type {\n",
       "        vertical-align: middle;\n",
       "    }\n",
       "\n",
       "    .dataframe tbody tr th {\n",
       "        vertical-align: top;\n",
       "    }\n",
       "\n",
       "    .dataframe thead th {\n",
       "        text-align: right;\n",
       "    }\n",
       "</style>\n",
       "<table border=\"1\" class=\"dataframe\">\n",
       "  <thead>\n",
       "    <tr style=\"text-align: right;\">\n",
       "      <th></th>\n",
       "      <th>d</th>\n",
       "      <th>epoch</th>\n",
       "      <th>g</th>\n",
       "      <th>iter</th>\n",
       "      <th>loss</th>\n",
       "      <th>timestamp</th>\n",
       "    </tr>\n",
       "  </thead>\n",
       "  <tbody>\n",
       "    <tr>\n",
       "      <th>mean</th>\n",
       "      <td>-0.009346</td>\n",
       "      <td>45.0</td>\n",
       "      <td>0.004984</td>\n",
       "      <td>937.0</td>\n",
       "      <td>-0.006944</td>\n",
       "      <td>0.024182</td>\n",
       "    </tr>\n",
       "    <tr>\n",
       "      <th>min</th>\n",
       "      <td>-0.013259</td>\n",
       "      <td>45.0</td>\n",
       "      <td>-0.001854</td>\n",
       "      <td>0.0</td>\n",
       "      <td>-0.013259</td>\n",
       "      <td>0.000000</td>\n",
       "    </tr>\n",
       "    <tr>\n",
       "      <th>max</th>\n",
       "      <td>-0.002961</td>\n",
       "      <td>45.0</td>\n",
       "      <td>0.007892</td>\n",
       "      <td>1874.0</td>\n",
       "      <td>0.007892</td>\n",
       "      <td>45.342010</td>\n",
       "    </tr>\n",
       "  </tbody>\n",
       "</table>\n",
       "</div>"
      ],
      "text/plain": [
       "             d  epoch         g    iter      loss  timestamp\n",
       "mean -0.009346   45.0  0.004984   937.0 -0.006944   0.024182\n",
       "min  -0.013259   45.0 -0.001854     0.0 -0.013259   0.000000\n",
       "max  -0.002961   45.0  0.007892  1874.0  0.007892  45.342010"
      ]
     },
     "metadata": {},
     "output_type": "display_data"
    },
    {
     "data": {
      "application/vnd.jupyter.widget-view+json": {
       "model_id": "d80fc400a2ff4874ac08f9f85aa74769",
       "version_major": 2,
       "version_minor": 0
      },
      "text/plain": [
       "HBox(children=(IntProgress(value=0, max=1875), HTML(value='')))"
      ]
     },
     "metadata": {},
     "output_type": "display_data"
    },
    {
     "name": "stdout",
     "output_type": "stream",
     "text": [
      "\n"
     ]
    },
    {
     "data": {
      "text/html": [
       "<div>\n",
       "<style scoped>\n",
       "    .dataframe tbody tr th:only-of-type {\n",
       "        vertical-align: middle;\n",
       "    }\n",
       "\n",
       "    .dataframe tbody tr th {\n",
       "        vertical-align: top;\n",
       "    }\n",
       "\n",
       "    .dataframe thead th {\n",
       "        text-align: right;\n",
       "    }\n",
       "</style>\n",
       "<table border=\"1\" class=\"dataframe\">\n",
       "  <thead>\n",
       "    <tr style=\"text-align: right;\">\n",
       "      <th></th>\n",
       "      <th>d</th>\n",
       "      <th>epoch</th>\n",
       "      <th>g</th>\n",
       "      <th>iter</th>\n",
       "      <th>loss</th>\n",
       "      <th>timestamp</th>\n",
       "    </tr>\n",
       "  </thead>\n",
       "  <tbody>\n",
       "    <tr>\n",
       "      <th>mean</th>\n",
       "      <td>-0.009539</td>\n",
       "      <td>46.0</td>\n",
       "      <td>0.005043</td>\n",
       "      <td>937.0</td>\n",
       "      <td>-0.007106</td>\n",
       "      <td>0.024151</td>\n",
       "    </tr>\n",
       "    <tr>\n",
       "      <th>min</th>\n",
       "      <td>-0.014174</td>\n",
       "      <td>46.0</td>\n",
       "      <td>-0.000333</td>\n",
       "      <td>0.0</td>\n",
       "      <td>-0.014174</td>\n",
       "      <td>0.000000</td>\n",
       "    </tr>\n",
       "    <tr>\n",
       "      <th>max</th>\n",
       "      <td>-0.002824</td>\n",
       "      <td>46.0</td>\n",
       "      <td>0.007678</td>\n",
       "      <td>1874.0</td>\n",
       "      <td>0.007678</td>\n",
       "      <td>45.282208</td>\n",
       "    </tr>\n",
       "  </tbody>\n",
       "</table>\n",
       "</div>"
      ],
      "text/plain": [
       "             d  epoch         g    iter      loss  timestamp\n",
       "mean -0.009539   46.0  0.005043   937.0 -0.007106   0.024151\n",
       "min  -0.014174   46.0 -0.000333     0.0 -0.014174   0.000000\n",
       "max  -0.002824   46.0  0.007678  1874.0  0.007678  45.282208"
      ]
     },
     "metadata": {},
     "output_type": "display_data"
    },
    {
     "data": {
      "application/vnd.jupyter.widget-view+json": {
       "model_id": "4c9dfc62f1a94182a49a859f219994b4",
       "version_major": 2,
       "version_minor": 0
      },
      "text/plain": [
       "HBox(children=(IntProgress(value=0, max=1875), HTML(value='')))"
      ]
     },
     "metadata": {},
     "output_type": "display_data"
    },
    {
     "name": "stdout",
     "output_type": "stream",
     "text": [
      "\n"
     ]
    },
    {
     "data": {
      "text/html": [
       "<div>\n",
       "<style scoped>\n",
       "    .dataframe tbody tr th:only-of-type {\n",
       "        vertical-align: middle;\n",
       "    }\n",
       "\n",
       "    .dataframe tbody tr th {\n",
       "        vertical-align: top;\n",
       "    }\n",
       "\n",
       "    .dataframe thead th {\n",
       "        text-align: right;\n",
       "    }\n",
       "</style>\n",
       "<table border=\"1\" class=\"dataframe\">\n",
       "  <thead>\n",
       "    <tr style=\"text-align: right;\">\n",
       "      <th></th>\n",
       "      <th>d</th>\n",
       "      <th>epoch</th>\n",
       "      <th>g</th>\n",
       "      <th>iter</th>\n",
       "      <th>loss</th>\n",
       "      <th>timestamp</th>\n",
       "    </tr>\n",
       "  </thead>\n",
       "  <tbody>\n",
       "    <tr>\n",
       "      <th>mean</th>\n",
       "      <td>-0.009436</td>\n",
       "      <td>47.0</td>\n",
       "      <td>0.004944</td>\n",
       "      <td>937.0</td>\n",
       "      <td>-0.007018</td>\n",
       "      <td>0.024214</td>\n",
       "    </tr>\n",
       "    <tr>\n",
       "      <th>min</th>\n",
       "      <td>-0.015203</td>\n",
       "      <td>47.0</td>\n",
       "      <td>-0.000467</td>\n",
       "      <td>0.0</td>\n",
       "      <td>-0.015203</td>\n",
       "      <td>0.000000</td>\n",
       "    </tr>\n",
       "    <tr>\n",
       "      <th>max</th>\n",
       "      <td>-0.002740</td>\n",
       "      <td>47.0</td>\n",
       "      <td>0.008020</td>\n",
       "      <td>1874.0</td>\n",
       "      <td>0.008020</td>\n",
       "      <td>45.401934</td>\n",
       "    </tr>\n",
       "  </tbody>\n",
       "</table>\n",
       "</div>"
      ],
      "text/plain": [
       "             d  epoch         g    iter      loss  timestamp\n",
       "mean -0.009436   47.0  0.004944   937.0 -0.007018   0.024214\n",
       "min  -0.015203   47.0 -0.000467     0.0 -0.015203   0.000000\n",
       "max  -0.002740   47.0  0.008020  1874.0  0.008020  45.401934"
      ]
     },
     "metadata": {},
     "output_type": "display_data"
    },
    {
     "data": {
      "application/vnd.jupyter.widget-view+json": {
       "model_id": "90a9673eb4cf4a11b62786c13b93317b",
       "version_major": 2,
       "version_minor": 0
      },
      "text/plain": [
       "HBox(children=(IntProgress(value=0, max=1875), HTML(value='')))"
      ]
     },
     "metadata": {},
     "output_type": "display_data"
    },
    {
     "name": "stdout",
     "output_type": "stream",
     "text": [
      "\n"
     ]
    },
    {
     "data": {
      "text/html": [
       "<div>\n",
       "<style scoped>\n",
       "    .dataframe tbody tr th:only-of-type {\n",
       "        vertical-align: middle;\n",
       "    }\n",
       "\n",
       "    .dataframe tbody tr th {\n",
       "        vertical-align: top;\n",
       "    }\n",
       "\n",
       "    .dataframe thead th {\n",
       "        text-align: right;\n",
       "    }\n",
       "</style>\n",
       "<table border=\"1\" class=\"dataframe\">\n",
       "  <thead>\n",
       "    <tr style=\"text-align: right;\">\n",
       "      <th></th>\n",
       "      <th>d</th>\n",
       "      <th>epoch</th>\n",
       "      <th>g</th>\n",
       "      <th>iter</th>\n",
       "      <th>loss</th>\n",
       "      <th>timestamp</th>\n",
       "    </tr>\n",
       "  </thead>\n",
       "  <tbody>\n",
       "    <tr>\n",
       "      <th>mean</th>\n",
       "      <td>-0.009305</td>\n",
       "      <td>48.0</td>\n",
       "      <td>0.004918</td>\n",
       "      <td>937.0</td>\n",
       "      <td>-0.006918</td>\n",
       "      <td>0.024170</td>\n",
       "    </tr>\n",
       "    <tr>\n",
       "      <th>min</th>\n",
       "      <td>-0.014024</td>\n",
       "      <td>48.0</td>\n",
       "      <td>-0.000011</td>\n",
       "      <td>0.0</td>\n",
       "      <td>-0.014024</td>\n",
       "      <td>0.000000</td>\n",
       "    </tr>\n",
       "    <tr>\n",
       "      <th>max</th>\n",
       "      <td>-0.003204</td>\n",
       "      <td>48.0</td>\n",
       "      <td>0.007726</td>\n",
       "      <td>1874.0</td>\n",
       "      <td>0.007726</td>\n",
       "      <td>45.318832</td>\n",
       "    </tr>\n",
       "  </tbody>\n",
       "</table>\n",
       "</div>"
      ],
      "text/plain": [
       "             d  epoch         g    iter      loss  timestamp\n",
       "mean -0.009305   48.0  0.004918   937.0 -0.006918   0.024170\n",
       "min  -0.014024   48.0 -0.000011     0.0 -0.014024   0.000000\n",
       "max  -0.003204   48.0  0.007726  1874.0  0.007726  45.318832"
      ]
     },
     "metadata": {},
     "output_type": "display_data"
    },
    {
     "data": {
      "application/vnd.jupyter.widget-view+json": {
       "model_id": "36c40757cd8d4dd5846d230dff7fc40d",
       "version_major": 2,
       "version_minor": 0
      },
      "text/plain": [
       "HBox(children=(IntProgress(value=0, max=1875), HTML(value='')))"
      ]
     },
     "metadata": {},
     "output_type": "display_data"
    },
    {
     "name": "stdout",
     "output_type": "stream",
     "text": [
      "\n"
     ]
    },
    {
     "data": {
      "text/html": [
       "<div>\n",
       "<style scoped>\n",
       "    .dataframe tbody tr th:only-of-type {\n",
       "        vertical-align: middle;\n",
       "    }\n",
       "\n",
       "    .dataframe tbody tr th {\n",
       "        vertical-align: top;\n",
       "    }\n",
       "\n",
       "    .dataframe thead th {\n",
       "        text-align: right;\n",
       "    }\n",
       "</style>\n",
       "<table border=\"1\" class=\"dataframe\">\n",
       "  <thead>\n",
       "    <tr style=\"text-align: right;\">\n",
       "      <th></th>\n",
       "      <th>d</th>\n",
       "      <th>epoch</th>\n",
       "      <th>g</th>\n",
       "      <th>iter</th>\n",
       "      <th>loss</th>\n",
       "      <th>timestamp</th>\n",
       "    </tr>\n",
       "  </thead>\n",
       "  <tbody>\n",
       "    <tr>\n",
       "      <th>mean</th>\n",
       "      <td>-0.009293</td>\n",
       "      <td>49.0</td>\n",
       "      <td>0.004911</td>\n",
       "      <td>937.0</td>\n",
       "      <td>-0.006926</td>\n",
       "      <td>0.024211</td>\n",
       "    </tr>\n",
       "    <tr>\n",
       "      <th>min</th>\n",
       "      <td>-0.013576</td>\n",
       "      <td>49.0</td>\n",
       "      <td>-0.001671</td>\n",
       "      <td>0.0</td>\n",
       "      <td>-0.013576</td>\n",
       "      <td>0.000000</td>\n",
       "    </tr>\n",
       "    <tr>\n",
       "      <th>max</th>\n",
       "      <td>-0.002881</td>\n",
       "      <td>49.0</td>\n",
       "      <td>0.007823</td>\n",
       "      <td>1874.0</td>\n",
       "      <td>0.007823</td>\n",
       "      <td>45.395221</td>\n",
       "    </tr>\n",
       "  </tbody>\n",
       "</table>\n",
       "</div>"
      ],
      "text/plain": [
       "             d  epoch         g    iter      loss  timestamp\n",
       "mean -0.009293   49.0  0.004911   937.0 -0.006926   0.024211\n",
       "min  -0.013576   49.0 -0.001671     0.0 -0.013576   0.000000\n",
       "max  -0.002881   49.0  0.007823  1874.0  0.007823  45.395221"
      ]
     },
     "metadata": {},
     "output_type": "display_data"
    },
    {
     "data": {
      "text/plain": [
       "<sqlalchemy.ext.automap.fg_train at 0x7efc4a893390>"
      ]
     },
     "execution_count": 15,
     "metadata": {},
     "output_type": "execute_result"
    }
   ],
   "source": [
    "trainer.train(50)"
   ]
  },
  {
   "cell_type": "code",
   "execution_count": 16,
   "metadata": {},
   "outputs": [],
   "source": [
    "from matplotlib import pyplot as plt\n",
    "%matplotlib inline"
   ]
  },
  {
   "cell_type": "code",
   "execution_count": 17,
   "metadata": {},
   "outputs": [],
   "source": [
    "images = g.new_images(10)\n",
    "if CUDA: images = images.cpu()"
   ]
  },
  {
   "cell_type": "code",
   "execution_count": 18,
   "metadata": {},
   "outputs": [],
   "source": [
    "from IPython.display import display_jpeg"
   ]
  },
  {
   "cell_type": "code",
   "execution_count": 19,
   "metadata": {},
   "outputs": [
    {
     "data": {
      "text/plain": [
       "<matplotlib.image.AxesImage at 0x7efbff77b9b0>"
      ]
     },
     "execution_count": 19,
     "metadata": {},
     "output_type": "execute_result"
    },
    {
     "data": {
      "image/png": "[encoded data removed]",
      "text/plain": [
       "<Figure size 432x288 with 1 Axes>"
      ]
     },
     "metadata": {},
     "output_type": "display_data"
    }
   ],
   "source": [
    "plt.imshow(images.data.numpy()[0][0])"
   ]
  },
  {
   "cell_type": "code",
   "execution_count": 20,
   "metadata": {},
   "outputs": [
    {
     "data": {
      "text/plain": [
       "<matplotlib.image.AxesImage at 0x7efbfbf03c18>"
      ]
     },
     "execution_count": 20,
     "metadata": {},
     "output_type": "execute_result"
    },
    {
     "data": {
      "image/png": "[encoded data removed]",
      "text/plain": [
       "<Figure size 432x288 with 1 Axes>"
      ]
     },
     "metadata": {},
     "output_type": "display_data"
    }
   ],
   "source": [
    "plt.imshow(images.data.numpy()[1][0])"
   ]
  },
  {
   "cell_type": "code",
   "execution_count": 21,
   "metadata": {},
   "outputs": [
    {
     "data": {
      "text/plain": [
       "<matplotlib.image.AxesImage at 0x7efbfbee4f28>"
      ]
     },
     "execution_count": 21,
     "metadata": {},
     "output_type": "execute_result"
    },
    {
     "data": {
      "image/png": "[encoded data removed]",
      "text/plain": [
       "<Figure size 432x288 with 1 Axes>"
      ]
     },
     "metadata": {},
     "output_type": "display_data"
    }
   ],
   "source": [
    "plt.imshow(images.data.numpy()[2][0])"
   ]
  },
  {
   "cell_type": "code",
   "execution_count": 22,
   "metadata": {},
   "outputs": [
    {
     "data": {
      "text/plain": [
       "<matplotlib.image.AxesImage at 0x7efbfbe43a20>"
      ]
     },
     "execution_count": 22,
     "metadata": {},
     "output_type": "execute_result"
    },
    {
     "data": {
      "image/png": "[encoded data removed]",
      "text/plain": [
       "<Figure size 432x288 with 1 Axes>"
      ]
     },
     "metadata": {},
     "output_type": "display_data"
    }
   ],
   "source": [
    "plt.imshow(images.data.numpy()[3][0])"
   ]
  },
  {
   "cell_type": "code",
   "execution_count": 23,
   "metadata": {},
   "outputs": [
    {
     "data": {
      "text/plain": [
       "<matplotlib.image.AxesImage at 0x7efbfbe216a0>"
      ]
     },
     "execution_count": 23,
     "metadata": {},
     "output_type": "execute_result"
    },
    {
     "data": {
      "image/png": "[encoded data removed]",
      "text/plain": [
       "<Figure size 432x288 with 1 Axes>"
      ]
     },
     "metadata": {},
     "output_type": "display_data"
    }
   ],
   "source": [
    "plt.imshow(images.data.numpy()[4][0])"
   ]
  },
  {
   "cell_type": "markdown",
   "metadata": {},
   "source": [
    "### Findings\n",
    "\n",
    "* No batchnorm!"
   ]
  },
  {
   "cell_type": "code",
   "execution_count": null,
   "metadata": {},
   "outputs": [],
   "source": []
  }
 ],
 "metadata": {
  "kernelspec": {
   "display_name": "Python 3",
   "language": "python",
   "name": "python3"
  },
  "language_info": {
   "codemirror_mode": {
    "name": "ipython",
    "version": 3
   },
   "file_extension": ".py",
   "mimetype": "text/x-python",
   "name": "python",
   "nbconvert_exporter": "python",
   "pygments_lexer": "ipython3",
   "version": "3.6.5"
  }
 },
 "nbformat": 4,
 "nbformat_minor": 2
}

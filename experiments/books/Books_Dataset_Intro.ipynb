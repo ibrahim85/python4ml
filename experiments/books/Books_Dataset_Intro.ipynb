{
  "nbformat": 4,
  "nbformat_minor": 0,
  "metadata": {
    "colab": {
      "name": "Books_Dataset_Intro.ipynb",
      "version": "0.3.2",
      "provenance": [],
      "collapsed_sections": [],
      "include_colab_link": true
    },
    "kernelspec": {
      "name": "python3",
      "display_name": "Python 3"
    }
  },
  "cells": [
    {
      "cell_type": "markdown",
      "metadata": {
        "id": "view-in-github",
        "colab_type": "text"
      },
      "source": [
        "<a href=\"https://colab.research.google.com/github/raynardj/python4ml/blob/master/experiments/books/Books_Dataset_Intro.ipynb\" target=\"_parent\"><img src=\"https://colab.research.google.com/assets/colab-badge.svg\" alt=\"Open In Colab\"/></a>"
      ]
    },
    {
      "cell_type": "markdown",
      "metadata": {
        "id": "fNNgJA5exABm",
        "colab_type": "text"
      },
      "source": [
        "# Dataset README\n",
        "## Introduction to books.db\n"
      ]
    },
    {
      "cell_type": "code",
      "metadata": {
        "id": "EGVOuUKVwkuv",
        "colab_type": "code",
        "colab": {}
      },
      "source": [
        "from sqlalchemy import create_engine\n",
        "import pandas as pd"
      ],
      "execution_count": 0,
      "outputs": []
    },
    {
      "cell_type": "markdown",
      "metadata": {
        "id": "hfKKvhnDx-4c",
        "colab_type": "text"
      },
      "source": [
        "### Load the books.db form google drive"
      ]
    },
    {
      "cell_type": "code",
      "metadata": {
        "id": "2b36KG22wxJL",
        "colab_type": "code",
        "colab": {}
      },
      "source": [
        "from google.colab import drive\n",
        "\n",
        "drive.mount(\"mydrive\")"
      ],
      "execution_count": 0,
      "outputs": []
    },
    {
      "cell_type": "code",
      "metadata": {
        "id": "Y6iLYZ-FxLUu",
        "colab_type": "code",
        "colab": {
          "base_uri": "https://localhost:8080/",
          "height": 34
        },
        "outputId": "d6ecdb42-19fe-4bbb-de68-54ec0f8460a5"
      },
      "source": [
        "!ls mydrive/My\\ Drive/data/books/"
      ],
      "execution_count": 8,
      "outputs": [
        {
          "output_type": "stream",
          "text": [
            "Books_Dataset_Intro.ipynb  books.db\n"
          ],
          "name": "stdout"
        }
      ]
    },
    {
      "cell_type": "markdown",
      "metadata": {
        "id": "vCaghh86x49t",
        "colab_type": "text"
      },
      "source": [
        "md5 hash should equal to 32008310dd9f978e597e8a1d6ddf7430"
      ]
    },
    {
      "cell_type": "code",
      "metadata": {
        "id": "TJrufqlExo68",
        "colab_type": "code",
        "colab": {
          "base_uri": "https://localhost:8080/",
          "height": 34
        },
        "outputId": "34aeb638-d276-4bf5-9c7e-eb93817c1ca6"
      },
      "source": [
        "!md5sum mydrive/My\\ Drive/data/books/books.db"
      ],
      "execution_count": 9,
      "outputs": [
        {
          "output_type": "stream",
          "text": [
            "32008310dd9f978e597e8a1d6ddf7430  mydrive/My Drive/data/books/books.db\n"
          ],
          "name": "stdout"
        }
      ]
    },
    {
      "cell_type": "markdown",
      "metadata": {
        "id": "tOciS371ywsP",
        "colab_type": "text"
      },
      "source": [
        "### Data Preview"
      ]
    },
    {
      "cell_type": "code",
      "metadata": {
        "id": "BA5v20nyxyn0",
        "colab_type": "code",
        "colab": {}
      },
      "source": [
        "uri = \"sqlite:////content/mydrive/My Drive/data/books/books.db\"\n",
        "con = create_engine(uri)"
      ],
      "execution_count": 0,
      "outputs": []
    },
    {
      "cell_type": "markdown",
      "metadata": {
        "id": "i-HdmE_8z0w9",
        "colab_type": "text"
      },
      "source": [
        "#### Books Table"
      ]
    },
    {
      "cell_type": "code",
      "metadata": {
        "id": "IPCiOI1BzLjU",
        "colab_type": "code",
        "colab": {
          "base_uri": "https://localhost:8080/",
          "height": 669
        },
        "outputId": "0e02fd9a-f782-4f60-9b83-96b52b82adce"
      },
      "source": [
        "books = pd.read_sql(\"SELECT * FROM books LIMIT 20\",con=con)\n",
        "books"
      ],
      "execution_count": 14,
      "outputs": [
        {
          "output_type": "execute_result",
          "data": {
            "text/html": [
              "<div>\n",
              "<style scoped>\n",
              "    .dataframe tbody tr th:only-of-type {\n",
              "        vertical-align: middle;\n",
              "    }\n",
              "\n",
              "    .dataframe tbody tr th {\n",
              "        vertical-align: top;\n",
              "    }\n",
              "\n",
              "    .dataframe thead th {\n",
              "        text-align: right;\n",
              "    }\n",
              "</style>\n",
              "<table border=\"1\" class=\"dataframe\">\n",
              "  <thead>\n",
              "    <tr style=\"text-align: right;\">\n",
              "      <th></th>\n",
              "      <th>book_id</th>\n",
              "      <th>bookname</th>\n",
              "      <th>author_id</th>\n",
              "      <th>cate1</th>\n",
              "    </tr>\n",
              "  </thead>\n",
              "  <tbody>\n",
              "    <tr>\n",
              "      <th>0</th>\n",
              "      <td>0</td>\n",
              "      <td>'twixt Land &amp; Sea</td>\n",
              "      <td>167</td>\n",
              "      <td>English Literature</td>\n",
              "    </tr>\n",
              "    <tr>\n",
              "      <th>1</th>\n",
              "      <td>1</td>\n",
              "      <td>20,000 Leagues Under The Sea</td>\n",
              "      <td>169</td>\n",
              "      <td>Translated Works</td>\n",
              "    </tr>\n",
              "    <tr>\n",
              "      <th>2</th>\n",
              "      <td>2</td>\n",
              "      <td>50 Bab Ballads</td>\n",
              "      <td>287</td>\n",
              "      <td>English Literature</td>\n",
              "    </tr>\n",
              "    <tr>\n",
              "      <th>3</th>\n",
              "      <td>3</td>\n",
              "      <td>A Cathedral Courtship</td>\n",
              "      <td>172</td>\n",
              "      <td>English Literature</td>\n",
              "    </tr>\n",
              "    <tr>\n",
              "      <th>4</th>\n",
              "      <td>4</td>\n",
              "      <td>A Child's Garden Of Verses</td>\n",
              "      <td>226</td>\n",
              "      <td>English Literature</td>\n",
              "    </tr>\n",
              "    <tr>\n",
              "      <th>5</th>\n",
              "      <td>5</td>\n",
              "      <td>A Child's History Of England</td>\n",
              "      <td>42</td>\n",
              "      <td>English Literature</td>\n",
              "    </tr>\n",
              "    <tr>\n",
              "      <th>6</th>\n",
              "      <td>6</td>\n",
              "      <td>A Christmas Carol</td>\n",
              "      <td>42</td>\n",
              "      <td>English Literature</td>\n",
              "    </tr>\n",
              "    <tr>\n",
              "      <th>7</th>\n",
              "      <td>7</td>\n",
              "      <td>A Collection Of Ballads</td>\n",
              "      <td>16</td>\n",
              "      <td>English Literature</td>\n",
              "    </tr>\n",
              "    <tr>\n",
              "      <th>8</th>\n",
              "      <td>8</td>\n",
              "      <td>A Collection Of Beatrix Potter Stories</td>\n",
              "      <td>30</td>\n",
              "      <td>English Literature</td>\n",
              "    </tr>\n",
              "    <tr>\n",
              "      <th>9</th>\n",
              "      <td>9</td>\n",
              "      <td>A Confession</td>\n",
              "      <td>179</td>\n",
              "      <td>Translated Works</td>\n",
              "    </tr>\n",
              "    <tr>\n",
              "      <th>10</th>\n",
              "      <td>10</td>\n",
              "      <td>A Connecticut Yankee In King Arthur's Court</td>\n",
              "      <td>189</td>\n",
              "      <td>English Literature</td>\n",
              "    </tr>\n",
              "    <tr>\n",
              "      <th>11</th>\n",
              "      <td>11</td>\n",
              "      <td>A Daughter Of Eve</td>\n",
              "      <td>130</td>\n",
              "      <td>Translated Works</td>\n",
              "    </tr>\n",
              "    <tr>\n",
              "      <th>12</th>\n",
              "      <td>12</td>\n",
              "      <td>A Distinguished Provincial At Paris</td>\n",
              "      <td>130</td>\n",
              "      <td>Translated Works</td>\n",
              "    </tr>\n",
              "    <tr>\n",
              "      <th>13</th>\n",
              "      <td>13</td>\n",
              "      <td>A Drama On The Seashore</td>\n",
              "      <td>130</td>\n",
              "      <td>Translated Works</td>\n",
              "    </tr>\n",
              "    <tr>\n",
              "      <th>14</th>\n",
              "      <td>14</td>\n",
              "      <td>A Dream Of John Ball</td>\n",
              "      <td>285</td>\n",
              "      <td>English Literature</td>\n",
              "    </tr>\n",
              "    <tr>\n",
              "      <th>15</th>\n",
              "      <td>15</td>\n",
              "      <td>A Footnote To History</td>\n",
              "      <td>226</td>\n",
              "      <td>English Literature</td>\n",
              "    </tr>\n",
              "    <tr>\n",
              "      <th>16</th>\n",
              "      <td>16</td>\n",
              "      <td>A Girl Of The Limberlost</td>\n",
              "      <td>98</td>\n",
              "      <td>English Literature</td>\n",
              "    </tr>\n",
              "    <tr>\n",
              "      <th>17</th>\n",
              "      <td>17</td>\n",
              "      <td>A Hero Of Our Time</td>\n",
              "      <td>185</td>\n",
              "      <td>Translated Works</td>\n",
              "    </tr>\n",
              "    <tr>\n",
              "      <th>18</th>\n",
              "      <td>18</td>\n",
              "      <td>A Horse's Tale</td>\n",
              "      <td>189</td>\n",
              "      <td>English Literature</td>\n",
              "    </tr>\n",
              "    <tr>\n",
              "      <th>19</th>\n",
              "      <td>19</td>\n",
              "      <td>A House Of Pomegranates</td>\n",
              "      <td>210</td>\n",
              "      <td>English Literature</td>\n",
              "    </tr>\n",
              "  </tbody>\n",
              "</table>\n",
              "</div>"
            ],
            "text/plain": [
              "    book_id  ...               cate1\n",
              "0         0  ...  English Literature\n",
              "1         1  ...    Translated Works\n",
              "2         2  ...  English Literature\n",
              "3         3  ...  English Literature\n",
              "4         4  ...  English Literature\n",
              "5         5  ...  English Literature\n",
              "6         6  ...  English Literature\n",
              "7         7  ...  English Literature\n",
              "8         8  ...  English Literature\n",
              "9         9  ...    Translated Works\n",
              "10       10  ...  English Literature\n",
              "11       11  ...    Translated Works\n",
              "12       12  ...    Translated Works\n",
              "13       13  ...    Translated Works\n",
              "14       14  ...  English Literature\n",
              "15       15  ...  English Literature\n",
              "16       16  ...  English Literature\n",
              "17       17  ...    Translated Works\n",
              "18       18  ...  English Literature\n",
              "19       19  ...  English Literature\n",
              "\n",
              "[20 rows x 4 columns]"
            ]
          },
          "metadata": {
            "tags": []
          },
          "execution_count": 14
        }
      ]
    },
    {
      "cell_type": "markdown",
      "metadata": {
        "id": "UvI9MXg1ze_I",
        "colab_type": "text"
      },
      "source": [
        "The book_id is the id of this table, the author_id maps the to author table \n",
        "\n",
        "#### Author Table"
      ]
    },
    {
      "cell_type": "code",
      "metadata": {
        "id": "zFT3xz_i0IWE",
        "colab_type": "code",
        "colab": {}
      },
      "source": [
        "authors = pd.read_sql(\"authors\", con = con)"
      ],
      "execution_count": 0,
      "outputs": []
    },
    {
      "cell_type": "markdown",
      "metadata": {
        "id": "b9rtK4300V_w",
        "colab_type": "text"
      },
      "source": [
        "##### About author data\n",
        "* Negative integers in born death column is the \"BC\" year\n",
        "* Born, death year = 10000 means we don't possess the record on the birth/death of such author"
      ]
    },
    {
      "cell_type": "code",
      "metadata": {
        "id": "0X2JerbZ0PdV",
        "colab_type": "code",
        "colab": {
          "base_uri": "https://localhost:8080/",
          "height": 204
        },
        "outputId": "3fb09040-aa89-4333-eff7-71fa7be496be"
      },
      "source": [
        "authors.head()"
      ],
      "execution_count": 16,
      "outputs": [
        {
          "output_type": "execute_result",
          "data": {
            "text/html": [
              "<div>\n",
              "<style scoped>\n",
              "    .dataframe tbody tr th:only-of-type {\n",
              "        vertical-align: middle;\n",
              "    }\n",
              "\n",
              "    .dataframe tbody tr th {\n",
              "        vertical-align: top;\n",
              "    }\n",
              "\n",
              "    .dataframe thead th {\n",
              "        text-align: right;\n",
              "    }\n",
              "</style>\n",
              "<table border=\"1\" class=\"dataframe\">\n",
              "  <thead>\n",
              "    <tr style=\"text-align: right;\">\n",
              "      <th></th>\n",
              "      <th>index</th>\n",
              "      <th>author</th>\n",
              "      <th>born</th>\n",
              "      <th>death</th>\n",
              "    </tr>\n",
              "  </thead>\n",
              "  <tbody>\n",
              "    <tr>\n",
              "      <th>0</th>\n",
              "      <td>0</td>\n",
              "      <td>Adam Ferguson</td>\n",
              "      <td>1723</td>\n",
              "      <td>1816</td>\n",
              "    </tr>\n",
              "    <tr>\n",
              "      <th>1</th>\n",
              "      <td>1</td>\n",
              "      <td>Adam Smith</td>\n",
              "      <td>1723</td>\n",
              "      <td>1790</td>\n",
              "    </tr>\n",
              "    <tr>\n",
              "      <th>2</th>\n",
              "      <td>2</td>\n",
              "      <td>Aeschylus</td>\n",
              "      <td>525</td>\n",
              "      <td>10000</td>\n",
              "    </tr>\n",
              "    <tr>\n",
              "      <th>3</th>\n",
              "      <td>3</td>\n",
              "      <td>Aesop</td>\n",
              "      <td>10000</td>\n",
              "      <td>10000</td>\n",
              "    </tr>\n",
              "    <tr>\n",
              "      <th>4</th>\n",
              "      <td>4</td>\n",
              "      <td>Alan Seeger</td>\n",
              "      <td>1888</td>\n",
              "      <td>1916</td>\n",
              "    </tr>\n",
              "  </tbody>\n",
              "</table>\n",
              "</div>"
            ],
            "text/plain": [
              "   index         author   born  death\n",
              "0      0  Adam Ferguson   1723   1816\n",
              "1      1   Adam Smith     1723   1790\n",
              "2      2      Aeschylus    525  10000\n",
              "3      3          Aesop  10000  10000\n",
              "4      4    Alan Seeger   1888   1916"
            ]
          },
          "metadata": {
            "tags": []
          },
          "execution_count": 16
        }
      ]
    },
    {
      "cell_type": "markdown",
      "metadata": {
        "id": "Q81I5Ga60SU3",
        "colab_type": "text"
      },
      "source": [
        "### About chapter\n",
        "* Each book could have >=1 chapters\n",
        "* Each chapter is mapped to a txt or htm format text in the table \"text_files\"\n",
        "* The mapping relationship between books and their chapters are stored in the table \"book_filles\""
      ]
    },
    {
      "cell_type": "markdown",
      "metadata": {
        "id": "zDbqOOSX1ZB3",
        "colab_type": "text"
      },
      "source": [
        "#### Table: text_files\n",
        "\n",
        "* text: the text content of the book, not pretty if you look upon the following table, but will be much prettier if you show them in html like  ```<pre> your book text here </pre>```\n",
        "\n"
      ]
    },
    {
      "cell_type": "code",
      "metadata": {
        "id": "JJHQKi_h1NpC",
        "colab_type": "code",
        "colab": {
          "base_uri": "https://localhost:8080/",
          "height": 142
        },
        "outputId": "ef4fae4d-921b-471e-cba3-96d4a315ff11"
      },
      "source": [
        "pd.read_sql(\"SELECT * FROM text_files LIMIT 3\",con = con)"
      ],
      "execution_count": 18,
      "outputs": [
        {
          "output_type": "execute_result",
          "data": {
            "text/html": [
              "<div>\n",
              "<style scoped>\n",
              "    .dataframe tbody tr th:only-of-type {\n",
              "        vertical-align: middle;\n",
              "    }\n",
              "\n",
              "    .dataframe tbody tr th {\n",
              "        vertical-align: top;\n",
              "    }\n",
              "\n",
              "    .dataframe thead th {\n",
              "        text-align: right;\n",
              "    }\n",
              "</style>\n",
              "<table border=\"1\" class=\"dataframe\">\n",
              "  <thead>\n",
              "    <tr style=\"text-align: right;\">\n",
              "      <th></th>\n",
              "      <th>index</th>\n",
              "      <th>fmt</th>\n",
              "      <th>text</th>\n",
              "    </tr>\n",
              "  </thead>\n",
              "  <tbody>\n",
              "    <tr>\n",
              "      <th>0</th>\n",
              "      <td>0</td>\n",
              "      <td>txt</td>\n",
              "      <td>\\n\\n\\n\\n\\n\\n\\n\\nThe Song of Roland\\n\\n\\n\\n\\n\\n...</td>\n",
              "    </tr>\n",
              "    <tr>\n",
              "      <th>1</th>\n",
              "      <td>1</td>\n",
              "      <td>txt</td>\n",
              "      <td>\\n\\n\\n\\n\\n\\n\\n\\n\\n\\n\\t\\tAesop's Fables \\n\\n\\n\\...</td>\n",
              "    </tr>\n",
              "    <tr>\n",
              "      <th>2</th>\n",
              "      <td>2</td>\n",
              "      <td>txt</td>\n",
              "      <td>\\n\\n\\n\\n\\n\\n\\n\\n\\n\\n              KHALIFAH THE...</td>\n",
              "    </tr>\n",
              "  </tbody>\n",
              "</table>\n",
              "</div>"
            ],
            "text/plain": [
              "   index  fmt                                               text\n",
              "0      0  txt  \\n\\n\\n\\n\\n\\n\\n\\nThe Song of Roland\\n\\n\\n\\n\\n\\n...\n",
              "1      1  txt  \\n\\n\\n\\n\\n\\n\\n\\n\\n\\n\\t\\tAesop's Fables \\n\\n\\n\\...\n",
              "2      2  txt  \\n\\n\\n\\n\\n\\n\\n\\n\\n\\n              KHALIFAH THE..."
            ]
          },
          "metadata": {
            "tags": []
          },
          "execution_count": 18
        }
      ]
    },
    {
      "cell_type": "markdown",
      "metadata": {
        "id": "ANEVvT5a1TAL",
        "colab_type": "text"
      },
      "source": [
        "#### Table:  book_file"
      ]
    },
    {
      "cell_type": "markdown",
      "metadata": {
        "id": "L-WjSrdV1rS6",
        "colab_type": "text"
      },
      "source": [
        "* file_id: The \"index\" in the \"text_file\" table\n",
        "* book_id: The \"book_id\" in the \"books\" table\n",
        "* chapter: chapter name, if chapter name==Nan, it means the book only has 1 chapter"
      ]
    },
    {
      "cell_type": "code",
      "metadata": {
        "id": "V_Evg8IQ1jrj",
        "colab_type": "code",
        "colab": {
          "base_uri": "https://localhost:8080/",
          "height": 359
        },
        "outputId": "c990e82d-2af0-465d-8155-572d4d66e7a1"
      },
      "source": [
        "pd.read_sql(\"SELECT * FROM book_file LIMIT 10\",con = con)"
      ],
      "execution_count": 20,
      "outputs": [
        {
          "output_type": "execute_result",
          "data": {
            "text/html": [
              "<div>\n",
              "<style scoped>\n",
              "    .dataframe tbody tr th:only-of-type {\n",
              "        vertical-align: middle;\n",
              "    }\n",
              "\n",
              "    .dataframe tbody tr th {\n",
              "        vertical-align: top;\n",
              "    }\n",
              "\n",
              "    .dataframe thead th {\n",
              "        text-align: right;\n",
              "    }\n",
              "</style>\n",
              "<table border=\"1\" class=\"dataframe\">\n",
              "  <thead>\n",
              "    <tr style=\"text-align: right;\">\n",
              "      <th></th>\n",
              "      <th>index</th>\n",
              "      <th>file_id</th>\n",
              "      <th>book_id</th>\n",
              "      <th>chapter</th>\n",
              "    </tr>\n",
              "  </thead>\n",
              "  <tbody>\n",
              "    <tr>\n",
              "      <th>0</th>\n",
              "      <td>0</td>\n",
              "      <td>0</td>\n",
              "      <td>943</td>\n",
              "      <td>Nan</td>\n",
              "    </tr>\n",
              "    <tr>\n",
              "      <th>1</th>\n",
              "      <td>1</td>\n",
              "      <td>1</td>\n",
              "      <td>54</td>\n",
              "      <td>Nan</td>\n",
              "    </tr>\n",
              "    <tr>\n",
              "      <th>2</th>\n",
              "      <td>2</td>\n",
              "      <td>2</td>\n",
              "      <td>681</td>\n",
              "      <td>25-khalifah</td>\n",
              "    </tr>\n",
              "    <tr>\n",
              "      <th>3</th>\n",
              "      <td>3</td>\n",
              "      <td>3</td>\n",
              "      <td>681</td>\n",
              "      <td>Entertainments</td>\n",
              "    </tr>\n",
              "    <tr>\n",
              "      <th>4</th>\n",
              "      <td>4</td>\n",
              "      <td>4</td>\n",
              "      <td>681</td>\n",
              "      <td>02-the Fishmerman And The Jinni</td>\n",
              "    </tr>\n",
              "    <tr>\n",
              "      <th>5</th>\n",
              "      <td>5</td>\n",
              "      <td>5</td>\n",
              "      <td>681</td>\n",
              "      <td>31-conclusion</td>\n",
              "    </tr>\n",
              "    <tr>\n",
              "      <th>6</th>\n",
              "      <td>6</td>\n",
              "      <td>6</td>\n",
              "      <td>681</td>\n",
              "      <td>06-the Second Kalandar's Tale</td>\n",
              "    </tr>\n",
              "    <tr>\n",
              "      <th>7</th>\n",
              "      <td>7</td>\n",
              "      <td>7</td>\n",
              "      <td>681</td>\n",
              "      <td>26-abu Kir</td>\n",
              "    </tr>\n",
              "    <tr>\n",
              "      <th>8</th>\n",
              "      <td>8</td>\n",
              "      <td>8</td>\n",
              "      <td>681</td>\n",
              "      <td>16-sindbad The Seaman</td>\n",
              "    </tr>\n",
              "    <tr>\n",
              "      <th>9</th>\n",
              "      <td>9</td>\n",
              "      <td>9</td>\n",
              "      <td>681</td>\n",
              "      <td>07-the Third Kalandar's Tale</td>\n",
              "    </tr>\n",
              "  </tbody>\n",
              "</table>\n",
              "</div>"
            ],
            "text/plain": [
              "   index  file_id  book_id                          chapter\n",
              "0      0        0      943                              Nan\n",
              "1      1        1       54                              Nan\n",
              "2      2        2      681                      25-khalifah\n",
              "3      3        3      681                   Entertainments\n",
              "4      4        4      681  02-the Fishmerman And The Jinni\n",
              "5      5        5      681                    31-conclusion\n",
              "6      6        6      681    06-the Second Kalandar's Tale\n",
              "7      7        7      681                       26-abu Kir\n",
              "8      8        8      681            16-sindbad The Seaman\n",
              "9      9        9      681     07-the Third Kalandar's Tale"
            ]
          },
          "metadata": {
            "tags": []
          },
          "execution_count": 20
        }
      ]
    },
    {
      "cell_type": "code",
      "metadata": {
        "id": "i1sOAq9W1mKc",
        "colab_type": "code",
        "colab": {}
      },
      "source": [
        ""
      ],
      "execution_count": 0,
      "outputs": []
    }
  ]
}
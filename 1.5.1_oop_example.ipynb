{
 "cells": [
  {
   "cell_type": "markdown",
   "metadata": {},
   "source": [
    "# Object Oriented Progaming in Python\n",
    "### Class, Object & Inheritance\n",
    "### A Simple Example"
   ]
  },
  {
   "cell_type": "code",
   "execution_count": 49,
   "metadata": {},
   "outputs": [],
   "source": [
    "class person:\n",
    "    def __init__(self, name, height=1.6,weight=60, hp_max = 50): # 1 indent\n",
    "        # another indent (a tab or 4 spaces)\n",
    "        self.name = name # refer to self variable with in the function\n",
    "        self.weight = weight\n",
    "        self.height = height\n",
    "        self.hp = hp_max\n",
    "        self.hp_max = hp_max\n",
    "        \n",
    "    def __repr__(self):\n",
    "        \"\"\"\n",
    "        This \"repr\"(representation) function will change the way how the object will be printed\n",
    "        \"\"\"\n",
    "        return \"[%s]:height:%s,weight:%s\"%(self.name, self.height,self.weight)\n",
    "        \n",
    "class boxer(person): # boxer inherited person\n",
    "    def __init__(self, name, height = 1.7, weight = 65, power = 5, hp_max = 100):\n",
    "        super().__init__(name, height, weight, hp_max = hp_max)\n",
    "        self.power = power\n",
    "        \n",
    "    def attack(self, victim):\n",
    "        print(\"%s is attacking %s\"%(self.name, victim.name))\n",
    "        victim.hp = victim.hp - self.power \n",
    "    \n",
    "class nurse(person):\n",
    "    def __init__(self,name): # \"self\" arg is a must\n",
    "        super().__init__(name)\n",
    "        \n",
    "    def heal(self, patient):\n",
    "        patient.hp = min(patient.hp + 2, patient.hp_max) # HP shall not surpass the max hp value"
   ]
  },
  {
   "cell_type": "markdown",
   "metadata": {},
   "source": [
    "#### Try some actions with the class\n",
    "\n",
    "Substantiate/ Initialize the object from the \"person\" class"
   ]
  },
  {
   "cell_type": "code",
   "execution_count": 50,
   "metadata": {},
   "outputs": [
    {
     "name": "stdout",
     "output_type": "stream",
     "text": [
      "1.6\n"
     ]
    }
   ],
   "source": [
    "Jamie = person(\"Jamie Jin\")\n",
    "Ray = person(\"Ray Jon\", height=1.85, weight=75)\n",
    "print(Jamie.height)"
   ]
  },
  {
   "cell_type": "code",
   "execution_count": 51,
   "metadata": {},
   "outputs": [
    {
     "data": {
      "text/plain": [
       "[Ray Jon]:height:1.85,weight:75"
      ]
     },
     "execution_count": 51,
     "metadata": {},
     "output_type": "execute_result"
    }
   ],
   "source": [
    "# trying the __repr__ function\n",
    "Ray"
   ]
  },
  {
   "cell_type": "markdown",
   "metadata": {},
   "source": [
    "You can assign value to object property from outside"
   ]
  },
  {
   "cell_type": "code",
   "execution_count": 52,
   "metadata": {},
   "outputs": [],
   "source": [
    "Jamie.height = 1.68"
   ]
  },
  {
   "cell_type": "markdown",
   "metadata": {},
   "source": [
    "Let's try the inherited class: boxer"
   ]
  },
  {
   "cell_type": "code",
   "execution_count": 53,
   "metadata": {},
   "outputs": [],
   "source": [
    "Rocky = boxer(\"Rocky Balboa\",height=1.8, weight=70,hp_max=100,power = 12)\n",
    "Apolo = boxer(\"Apolo Creed\",height=1.9, weight=75, hp_max=80, power= 10)"
   ]
  },
  {
   "cell_type": "markdown",
   "metadata": {},
   "source": [
    "The boxer class inherited everything from person (except the things \"boxer\" has speficially defined and overwriten \"person\")"
   ]
  },
  {
   "cell_type": "code",
   "execution_count": 55,
   "metadata": {},
   "outputs": [
    {
     "data": {
      "text/plain": [
       "[Rocky Balboa]:height:1.8,weight:70"
      ]
     },
     "execution_count": 55,
     "metadata": {},
     "output_type": "execute_result"
    }
   ],
   "source": [
    "Rocky"
   ]
  },
  {
   "cell_type": "code",
   "execution_count": 32,
   "metadata": {},
   "outputs": [],
   "source": [
    "Rocky.height = 1.81\n",
    "Apolo.height = 1.91"
   ]
  },
  {
   "cell_type": "code",
   "execution_count": 33,
   "metadata": {},
   "outputs": [
    {
     "data": {
      "text/plain": [
       "(1.81, 1.91, 70)"
      ]
     },
     "execution_count": 33,
     "metadata": {},
     "output_type": "execute_result"
    }
   ],
   "source": [
    "Rocky.height, Apolo.height, Rocky.weight"
   ]
  },
  {
   "cell_type": "code",
   "execution_count": 36,
   "metadata": {},
   "outputs": [
    {
     "data": {
      "text/plain": [
       "(100, 68)"
      ]
     },
     "execution_count": 36,
     "metadata": {},
     "output_type": "execute_result"
    }
   ],
   "source": [
    "Rocky.hp, Apolo.hp"
   ]
  },
  {
   "cell_type": "code",
   "execution_count": 37,
   "metadata": {},
   "outputs": [
    {
     "name": "stdout",
     "output_type": "stream",
     "text": [
      "Rocky Balboa is attacking Apolo Creed\n"
     ]
    }
   ],
   "source": [
    "Rocky.attack(Apolo)"
   ]
  },
  {
   "cell_type": "code",
   "execution_count": 38,
   "metadata": {},
   "outputs": [
    {
     "data": {
      "text/plain": [
       "(100, 56)"
      ]
     },
     "execution_count": 38,
     "metadata": {},
     "output_type": "execute_result"
    }
   ],
   "source": [
    "Rocky.hp, Apolo.hp"
   ]
  },
  {
   "cell_type": "markdown",
   "metadata": {},
   "source": [
    "Let's try the nurse class"
   ]
  },
  {
   "cell_type": "code",
   "execution_count": 40,
   "metadata": {},
   "outputs": [],
   "source": [
    "Sara = nurse(\"Sarah\")"
   ]
  },
  {
   "cell_type": "markdown",
   "metadata": {},
   "source": [
    "Of course function is a property(attribute), it can be passed on from 1 object to another"
   ]
  },
  {
   "cell_type": "code",
   "execution_count": 41,
   "metadata": {},
   "outputs": [],
   "source": [
    "Sara.attack  = Rocky.attack"
   ]
  },
  {
   "cell_type": "code",
   "execution_count": 43,
   "metadata": {},
   "outputs": [
    {
     "name": "stdout",
     "output_type": "stream",
     "text": [
      "Rocky Balboa is attacking Apolo Creed\n"
     ]
    }
   ],
   "source": [
    "Sara.attack(Apolo)"
   ]
  },
  {
   "cell_type": "code",
   "execution_count": 36,
   "metadata": {},
   "outputs": [],
   "source": [
    "Sara.heal(Apolo)"
   ]
  },
  {
   "cell_type": "code",
   "execution_count": 44,
   "metadata": {},
   "outputs": [
    {
     "data": {
      "text/plain": [
       "44"
      ]
     },
     "execution_count": 44,
     "metadata": {},
     "output_type": "execute_result"
    }
   ],
   "source": [
    "Apolo.hp"
   ]
  },
  {
   "cell_type": "code",
   "execution_count": null,
   "metadata": {},
   "outputs": [],
   "source": []
  }
 ],
 "metadata": {
  "kernelspec": {
   "display_name": "Python 3",
   "language": "python",
   "name": "python3"
  },
  "language_info": {
   "codemirror_mode": {
    "name": "ipython",
    "version": 3
   },
   "file_extension": ".py",
   "mimetype": "text/x-python",
   "name": "python",
   "nbconvert_exporter": "python",
   "pygments_lexer": "ipython3",
   "version": "3.6.5"
  }
 },
 "nbformat": 4,
 "nbformat_minor": 2
}
